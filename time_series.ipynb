{
 "cells": [
  {
   "cell_type": "markdown",
   "id": "FmuPFO2nDDhf",
   "metadata": {
    "id": "FmuPFO2nDDhf"
   },
   "source": [
    "## Import Libraries  "
   ]
  },
  {
   "cell_type": "code",
   "execution_count": 20,
   "id": "a7e92127",
   "metadata": {
    "id": "a7e92127"
   },
   "outputs": [],
   "source": [
    "import pandas as pd\n",
    "import numpy as np\n",
    "import tensorflow as tf\n",
    "from sklearn.model_selection import train_test_split\n",
    "from sklearn.linear_model import LinearRegression\n",
    "import matplotlib.pyplot as plt\n",
    "from sklearn.ensemble import RandomForestRegressor\n",
    "from tensorflow.keras.models import Sequential\n",
    "from tensorflow.keras import layers\n"
   ]
  },
  {
   "cell_type": "markdown",
   "id": "DnhUGMi_CcQ-",
   "metadata": {
    "id": "DnhUGMi_CcQ-"
   },
   "source": [
    "## Read the dataset"
   ]
  },
  {
   "cell_type": "code",
   "execution_count": 21,
   "id": "f3a2fc0d",
   "metadata": {
    "id": "f3a2fc0d"
   },
   "outputs": [],
   "source": [
    "df = pd.read_csv('stocks/W.csv')"
   ]
  },
  {
   "cell_type": "code",
   "execution_count": 22,
   "id": "5677daba",
   "metadata": {
    "id": "5677daba"
   },
   "outputs": [],
   "source": [
    "# take close column\n",
    "data = df['Close']"
   ]
  },
  {
   "cell_type": "code",
   "execution_count": 23,
   "id": "a28d578d",
   "metadata": {
    "colab": {
     "base_uri": "https://localhost:8080/"
    },
    "id": "a28d578d",
    "outputId": "02d7d519-fac3-4473-e51f-9d7e53dd193f"
   },
   "outputs": [
    {
     "data": {
      "text/plain": [
       "0    37.720001\n",
       "1    32.180000\n",
       "2    32.799999\n",
       "3    32.820000\n",
       "4    31.049999\n",
       "Name: Close, dtype: float64"
      ]
     },
     "execution_count": 23,
     "metadata": {},
     "output_type": "execute_result"
    }
   ],
   "source": [
    "data.head()"
   ]
  },
  {
   "cell_type": "markdown",
   "id": "c1NfsheGEZsy",
   "metadata": {
    "id": "c1NfsheGEZsy"
   },
   "source": [
    "## Walk Forward Methodology"
   ]
  },
  {
   "cell_type": "code",
   "execution_count": 24,
   "id": "9ddeeb44",
   "metadata": {
    "id": "9ddeeb44"
   },
   "outputs": [],
   "source": [
    "def walk_forward_methodology(dataset, look_back):\n",
    "\tdataX, dataY = [], []\n",
    "\tfor i in range(len(dataset)-look_back-1):\n",
    "\t\ta = dataset[i:(i+look_back)]\n",
    "\t\tdataX.append(a)\n",
    "\t\tdataY.append(dataset[i + look_back])\n",
    "\treturn np.array(dataX), np.array(dataY)"
   ]
  },
  {
   "cell_type": "code",
   "execution_count": 25,
   "id": "4138ff3c",
   "metadata": {
    "id": "4138ff3c"
   },
   "outputs": [],
   "source": [
    "# take three past days data as input\n",
    "dataX,dataY =  walk_forward_methodology(data,3)"
   ]
  },
  {
   "cell_type": "markdown",
   "id": "6tzvk2sWEnB-",
   "metadata": {
    "id": "6tzvk2sWEnB-"
   },
   "source": [
    "## Split dataset into the train (80%) and test (20%)"
   ]
  },
  {
   "cell_type": "code",
   "execution_count": 26,
   "id": "1ceaac42",
   "metadata": {
    "id": "1ceaac42"
   },
   "outputs": [],
   "source": [
    "x_train,x_test,y_train,y_test = train_test_split(dataX,dataY,test_size=0.2,shuffle=False)"
   ]
  },
  {
   "cell_type": "code",
   "execution_count": 27,
   "id": "0ba5a32b",
   "metadata": {
    "colab": {
     "base_uri": "https://localhost:8080/"
    },
    "id": "0ba5a32b",
    "outputId": "433250b0-a4dc-4111-ff39-9b6983097402"
   },
   "outputs": [
    {
     "data": {
      "text/plain": [
       "array([[ 37.72000122,  32.18000031,  32.79999924],\n",
       "       [ 32.18000031,  32.79999924,  32.81999969],\n",
       "       [ 32.79999924,  32.81999969,  31.04999924],\n",
       "       ...,\n",
       "       [120.12999725, 117.98999786, 117.27999878],\n",
       "       [117.98999786, 117.27999878, 149.94999695],\n",
       "       [117.27999878, 149.94999695, 160.27999878]])"
      ]
     },
     "execution_count": 27,
     "metadata": {},
     "output_type": "execute_result"
    }
   ],
   "source": [
    "x_train"
   ]
  },
  {
   "cell_type": "markdown",
   "id": "G2Ig25KLEWY3",
   "metadata": {
    "id": "G2Ig25KLEWY3"
   },
   "source": [
    "## Linear Regression"
   ]
  },
  {
   "cell_type": "code",
   "execution_count": 28,
   "id": "2641a10b",
   "metadata": {
    "id": "2641a10b"
   },
   "outputs": [],
   "source": [
    "# Initialize linear regression model\n",
    "LinearRegression = LinearRegression()"
   ]
  },
  {
   "cell_type": "code",
   "execution_count": 29,
   "id": "e8de7b1b",
   "metadata": {
    "colab": {
     "base_uri": "https://localhost:8080/"
    },
    "id": "e8de7b1b",
    "outputId": "90633c39-435a-4732-8859-59f76789a41b"
   },
   "outputs": [
    {
     "data": {
      "text/plain": [
       "LinearRegression()"
      ]
     },
     "execution_count": 29,
     "metadata": {},
     "output_type": "execute_result"
    }
   ],
   "source": [
    "#train the linear regression model\n",
    "LinearRegression.fit(x_train,y_train)"
   ]
  },
  {
   "cell_type": "code",
   "execution_count": 30,
   "id": "5ed75a15",
   "metadata": {
    "id": "5ed75a15"
   },
   "outputs": [],
   "source": [
    "# predicted on the test dataset\n",
    "y_pred = LinearRegression.predict(x_test)"
   ]
  },
  {
   "cell_type": "code",
   "execution_count": 31,
   "id": "886638d3",
   "metadata": {
    "colab": {
     "base_uri": "https://localhost:8080/",
     "height": 265
    },
    "id": "886638d3",
    "outputId": "79ccbf7e-e9db-4b32-90fb-7ab47bc5dbad"
   },
   "outputs": [
    {
     "data": {
      "image/png": "[encoded data removed]",
      "text/plain": [
       "<Figure size 432x288 with 1 Axes>"
      ]
     },
     "metadata": {
      "needs_background": "light"
     },
     "output_type": "display_data"
    }
   ],
   "source": [
    "# Plot predicted on the test set vs real values\n",
    "plt.plot(y_test, label='Actual')\n",
    "plt.plot(y_pred, label='Predicted')\n",
    "plt.legend()\n",
    "plt.show()"
   ]
  },
  {
   "cell_type": "markdown",
   "id": "cLSMrX6JKvrl",
   "metadata": {
    "id": "cLSMrX6JKvrl"
   },
   "source": [
    "## Random Forest Regressor"
   ]
  },
  {
   "cell_type": "code",
   "execution_count": 32,
   "id": "85818f0a",
   "metadata": {
    "id": "85818f0a"
   },
   "outputs": [],
   "source": [
    "# Initialize random forest regressor model\n",
    "RandomForestRegressor = RandomForestRegressor(max_depth=2, random_state=0)"
   ]
  },
  {
   "cell_type": "code",
   "execution_count": 33,
   "id": "u5oPuT3Dzwcy",
   "metadata": {
    "colab": {
     "base_uri": "https://localhost:8080/"
    },
    "id": "u5oPuT3Dzwcy",
    "outputId": "bd736169-d24f-44cc-b32a-b16e750f9ccf"
   },
   "outputs": [
    {
     "data": {
      "text/plain": [
       "RandomForestRegressor(max_depth=2, random_state=0)"
      ]
     },
     "execution_count": 33,
     "metadata": {},
     "output_type": "execute_result"
    }
   ],
   "source": [
    "#train the random forest regressor model\n",
    "RandomForestRegressor.fit(x_train,y_train)"
   ]
  },
  {
   "cell_type": "code",
   "execution_count": 34,
   "id": "6q95ZmyyzwYN",
   "metadata": {
    "id": "6q95ZmyyzwYN"
   },
   "outputs": [],
   "source": [
    "# predicted on the test dataset\n",
    "y_pred = RandomForestRegressor.predict(x_test)"
   ]
  },
  {
   "cell_type": "code",
   "execution_count": 35,
   "id": "7_LneoBYzwSa",
   "metadata": {
    "colab": {
     "base_uri": "https://localhost:8080/",
     "height": 265
    },
    "id": "7_LneoBYzwSa",
    "outputId": "876c1aff-cb56-49f8-8e5a-677fb0416b1b"
   },
   "outputs": [
    {
     "data": {
      "image/png": "[encoded data removed]",
      "text/plain": [
       "<Figure size 432x288 with 1 Axes>"
      ]
     },
     "metadata": {
      "needs_background": "light"
     },
     "output_type": "display_data"
    }
   ],
   "source": [
    "# Plot predicted on the test set vs real values\n",
    "plt.plot(y_test, label='Actual')\n",
    "plt.plot(y_pred, label='Predicted')\n",
    "plt.legend()\n",
    "plt.show()"
   ]
  },
  {
   "cell_type": "markdown",
   "id": "H7vyYw25LR-P",
   "metadata": {
    "id": "H7vyYw25LR-P"
   },
   "source": [
    "## **LSTM-DNN**"
   ]
  },
  {
   "cell_type": "code",
   "execution_count": 46,
   "id": "4630e11d",
   "metadata": {
    "colab": {
     "base_uri": "https://localhost:8080/"
    },
    "id": "4630e11d",
    "outputId": "fa086538-eff9-43dc-d342-135680fd8011"
   },
   "outputs": [
    {
     "name": "stdout",
     "output_type": "stream",
     "text": [
      "Model: \"sequential_10\"\n",
      "_________________________________________________________________\n",
      " Layer (type)                Output Shape              Param #   \n",
      "=================================================================\n",
      " lstm_30 (LSTM)              (None, 3, 100)            40800     \n",
      "                                                                 \n",
      " lstm_31 (LSTM)              (None, 200)               240800    \n",
      "                                                                 \n",
      " dense_27 (Dense)            (None, 128)               25728     \n",
      "                                                                 \n",
      " dense_28 (Dense)            (None, 1)                 129       \n",
      "                                                                 \n",
      "=================================================================\n",
      "Total params: 307,457\n",
      "Trainable params: 307,457\n",
      "Non-trainable params: 0\n",
      "_________________________________________________________________\n"
     ]
    }
   ],
   "source": [
    "\n",
    "\n",
    "model = tf.keras.Sequential([\n",
    "    tf.keras.layers.LSTM(100, input_shape=(3,1),return_sequences=True),\n",
    "    tf.keras.layers.LSTM(200),\n",
    "    tf.keras.layers.Dense(128, activation='relu'),\n",
    "    tf.keras.layers.Dense(1, activation='linear'),\n",
    "\n",
    "])\n",
    "model.compile(optimizer = 'adam', loss = 'mse', metrics = ['mse'])\n",
    "model.summary()\n"
   ]
  },
  {
   "cell_type": "code",
   "execution_count": 37,
   "id": "c1e1d355",
   "metadata": {
    "colab": {
     "base_uri": "https://localhost:8080/"
    },
    "id": "c1e1d355",
    "outputId": "3bec97ce-f720-47c0-c7ad-915c5811b5de"
   },
   "outputs": [
    {
     "name": "stdout",
     "output_type": "stream",
     "text": [
      "Epoch 1/50\n",
      "35/35 [==============================] - 6s 16ms/step - loss: 2900.6228 - mse: 2900.6228\n",
      "Epoch 2/50\n",
      "35/35 [==============================] - 1s 15ms/step - loss: 985.1206 - mse: 985.1206\n",
      "Epoch 3/50\n",
      "35/35 [==============================] - 1s 15ms/step - loss: 699.6918 - mse: 699.6918\n",
      "Epoch 4/50\n",
      "35/35 [==============================] - 1s 15ms/step - loss: 166.9327 - mse: 166.9327\n",
      "Epoch 5/50\n",
      "35/35 [==============================] - 1s 17ms/step - loss: 82.7964 - mse: 82.7964\n",
      "Epoch 6/50\n",
      "35/35 [==============================] - 1s 17ms/step - loss: 63.1101 - mse: 63.1101\n",
      "Epoch 7/50\n",
      "35/35 [==============================] - 1s 16ms/step - loss: 62.5910 - mse: 62.5910\n",
      "Epoch 8/50\n",
      "35/35 [==============================] - 1s 16ms/step - loss: 59.3163 - mse: 59.3163\n",
      "Epoch 9/50\n",
      "35/35 [==============================] - 1s 15ms/step - loss: 61.2554 - mse: 61.2554\n",
      "Epoch 10/50\n",
      "35/35 [==============================] - 1s 16ms/step - loss: 59.5946 - mse: 59.5946\n",
      "Epoch 11/50\n",
      "35/35 [==============================] - 1s 15ms/step - loss: 57.1096 - mse: 57.1096\n",
      "Epoch 12/50\n",
      "35/35 [==============================] - 1s 16ms/step - loss: 58.2825 - mse: 58.2825\n",
      "Epoch 13/50\n",
      "35/35 [==============================] - 1s 15ms/step - loss: 51.4195 - mse: 51.4195\n",
      "Epoch 14/50\n",
      "35/35 [==============================] - 1s 15ms/step - loss: 53.6833 - mse: 53.6833\n",
      "Epoch 15/50\n",
      "35/35 [==============================] - 1s 15ms/step - loss: 48.2362 - mse: 48.2362\n",
      "Epoch 16/50\n",
      "35/35 [==============================] - 1s 15ms/step - loss: 57.7087 - mse: 57.7087\n",
      "Epoch 17/50\n",
      "35/35 [==============================] - 1s 15ms/step - loss: 55.3396 - mse: 55.3396\n",
      "Epoch 18/50\n",
      "35/35 [==============================] - 1s 16ms/step - loss: 50.2344 - mse: 50.2344\n",
      "Epoch 19/50\n",
      "35/35 [==============================] - 1s 16ms/step - loss: 50.3907 - mse: 50.3907\n",
      "Epoch 20/50\n",
      "35/35 [==============================] - 1s 16ms/step - loss: 53.7365 - mse: 53.7365\n",
      "Epoch 21/50\n",
      "35/35 [==============================] - 1s 16ms/step - loss: 55.9550 - mse: 55.9550\n",
      "Epoch 22/50\n",
      "35/35 [==============================] - 1s 15ms/step - loss: 48.6313 - mse: 48.6313\n",
      "Epoch 23/50\n",
      "35/35 [==============================] - 1s 14ms/step - loss: 52.1790 - mse: 52.1790\n",
      "Epoch 24/50\n",
      "35/35 [==============================] - 1s 15ms/step - loss: 56.3553 - mse: 56.3553\n",
      "Epoch 25/50\n",
      "35/35 [==============================] - 1s 15ms/step - loss: 49.1868 - mse: 49.1868\n",
      "Epoch 26/50\n",
      "35/35 [==============================] - 1s 15ms/step - loss: 49.0663 - mse: 49.0663\n",
      "Epoch 27/50\n",
      "35/35 [==============================] - 1s 15ms/step - loss: 52.4026 - mse: 52.4026\n",
      "Epoch 28/50\n",
      "35/35 [==============================] - 1s 15ms/step - loss: 48.8822 - mse: 48.8822\n",
      "Epoch 29/50\n",
      "35/35 [==============================] - 1s 16ms/step - loss: 46.9798 - mse: 46.9798\n",
      "Epoch 30/50\n",
      "35/35 [==============================] - 1s 15ms/step - loss: 48.4449 - mse: 48.4449\n",
      "Epoch 31/50\n",
      "35/35 [==============================] - 1s 17ms/step - loss: 49.4483 - mse: 49.4483\n",
      "Epoch 32/50\n",
      "35/35 [==============================] - 1s 16ms/step - loss: 45.9590 - mse: 45.9590\n",
      "Epoch 33/50\n",
      "35/35 [==============================] - 1s 15ms/step - loss: 52.9908 - mse: 52.9908\n",
      "Epoch 34/50\n",
      "35/35 [==============================] - 1s 15ms/step - loss: 45.8444 - mse: 45.8444\n",
      "Epoch 35/50\n",
      "35/35 [==============================] - 1s 15ms/step - loss: 50.7006 - mse: 50.7006\n",
      "Epoch 36/50\n",
      "35/35 [==============================] - 1s 15ms/step - loss: 52.2151 - mse: 52.2151\n",
      "Epoch 37/50\n",
      "35/35 [==============================] - 1s 15ms/step - loss: 45.6584 - mse: 45.6584\n",
      "Epoch 38/50\n",
      "35/35 [==============================] - 1s 16ms/step - loss: 45.6399 - mse: 45.6399\n",
      "Epoch 39/50\n",
      "35/35 [==============================] - 1s 18ms/step - loss: 44.7456 - mse: 44.7456\n",
      "Epoch 40/50\n",
      "35/35 [==============================] - 1s 18ms/step - loss: 45.7542 - mse: 45.7542\n",
      "Epoch 41/50\n",
      "35/35 [==============================] - 1s 17ms/step - loss: 47.2645 - mse: 47.2645\n",
      "Epoch 42/50\n",
      "35/35 [==============================] - 1s 17ms/step - loss: 45.0344 - mse: 45.0344\n",
      "Epoch 43/50\n",
      "35/35 [==============================] - 1s 16ms/step - loss: 42.2216 - mse: 42.2216\n",
      "Epoch 44/50\n",
      "35/35 [==============================] - 1s 16ms/step - loss: 49.8396 - mse: 49.8396\n",
      "Epoch 45/50\n",
      "35/35 [==============================] - 1s 16ms/step - loss: 47.8606 - mse: 47.8606\n",
      "Epoch 46/50\n",
      "35/35 [==============================] - 1s 22ms/step - loss: 52.3106 - mse: 52.3106\n",
      "Epoch 47/50\n",
      "35/35 [==============================] - 1s 15ms/step - loss: 47.4761 - mse: 47.4761\n",
      "Epoch 48/50\n",
      "35/35 [==============================] - 1s 16ms/step - loss: 48.1310 - mse: 48.1310\n",
      "Epoch 49/50\n",
      "35/35 [==============================] - 1s 15ms/step - loss: 46.0499 - mse: 46.0499\n",
      "Epoch 50/50\n",
      "35/35 [==============================] - 1s 20ms/step - loss: 43.5325 - mse: 43.5325\n"
     ]
    }
   ],
   "source": [
    "#train the lstm-dnn model\n",
    "history = model.fit(x_train,y_train,epochs=50)"
   ]
  },
  {
   "cell_type": "code",
   "execution_count": 19,
   "id": "mNHVYXPw1Q39",
   "metadata": {
    "id": "mNHVYXPw1Q39"
   },
   "outputs": [],
   "source": [
    "# predicted on the test dataset\n",
    "y_pred = model.predict(x_test)"
   ]
  },
  {
   "cell_type": "code",
   "execution_count": 20,
   "id": "nXC0CnLM1xn3",
   "metadata": {
    "colab": {
     "base_uri": "https://localhost:8080/",
     "height": 265
    },
    "id": "nXC0CnLM1xn3",
    "outputId": "3e405754-e253-4a7b-aac5-86f124024dff"
   },
   "outputs": [
    {
     "data": {
      "image/png": "[encoded data removed]",
      "text/plain": [
       "<Figure size 432x288 with 1 Axes>"
      ]
     },
     "metadata": {
      "needs_background": "light"
     },
     "output_type": "display_data"
    }
   ],
   "source": [
    "# Plot predicted on the test set vs real values\n",
    "plt.plot(y_test, label='Actual')\n",
    "plt.plot(y_pred, label='Predicted')\n",
    "plt.legend()\n",
    "plt.show()"
   ]
  },
  {
   "cell_type": "markdown",
   "id": "JPAcQkEHNXXV",
   "metadata": {
    "id": "JPAcQkEHNXXV"
   },
   "source": [
    "## **1D-CNN-LSTM-DNN**"
   ]
  },
  {
   "cell_type": "code",
   "execution_count": 21,
   "id": "O5_boFxm8JSd",
   "metadata": {
    "colab": {
     "base_uri": "https://localhost:8080/"
    },
    "id": "O5_boFxm8JSd",
    "outputId": "83cd78a5-351a-476f-f1a1-02dda041033c"
   },
   "outputs": [
    {
     "name": "stdout",
     "output_type": "stream",
     "text": [
      "WARNING:tensorflow:From <ipython-input-21-72de26b2604e>:2: experimental_run_functions_eagerly (from tensorflow.python.eager.def_function) is deprecated and will be removed in a future version.\n",
      "Instructions for updating:\n",
      "Use `tf.config.run_functions_eagerly` instead of the experimental version.\n",
      "Model: \"sequential_1\"\n",
      "_________________________________________________________________\n",
      " Layer (type)                Output Shape              Param #   \n",
      "=================================================================\n",
      " conv1d (Conv1D)             (None, 1, 1, 32)          128       \n",
      "                                                                 \n",
      " conv1d_1 (Conv1D)           (None, 1, 1, 64)          2112      \n",
      "                                                                 \n",
      " dropout_2 (Dropout)         (None, 1, 1, 64)          0         \n",
      "                                                                 \n",
      " reshape (Reshape)           (None, 1, 64)             0         \n",
      "                                                                 \n",
      " lstm_2 (LSTM)               (None, 1, 100)            66000     \n",
      "                                                                 \n",
      " dropout_3 (Dropout)         (None, 1, 100)            0         \n",
      "                                                                 \n",
      " lstm_3 (LSTM)               (None, 200)               240800    \n",
      "                                                                 \n",
      " dropout_4 (Dropout)         (None, 200)               0         \n",
      "                                                                 \n",
      " dense_2 (Dense)             (None, 128)               25728     \n",
      "                                                                 \n",
      " dense_3 (Dense)             (None, 1)                 129       \n",
      "                                                                 \n",
      "=================================================================\n",
      "Total params: 334,897\n",
      "Trainable params: 334,897\n",
      "Non-trainable params: 0\n",
      "_________________________________________________________________\n"
     ]
    }
   ],
   "source": [
    "import tensorflow as tf\n",
    "tf.config.experimental_run_functions_eagerly(True)\n",
    "\n",
    "# Initialize and build the lstm-dnn model\n",
    "model = Sequential()\n",
    "\n",
    "#cnn layers\n",
    "model.add(layers.Conv1D(32, kernel_size=1, activation='relu', padding='same', input_shape=(1,1,3)))\n",
    "model.add(layers.Conv1D(64, kernel_size=1, activation='relu', padding='same'))\n",
    "model.add(layers.Dropout(0.2))\n",
    "\n",
    "#reshape the dataset to pass lstm\n",
    "model.add(layers.Reshape((1,64)))\n",
    "\n",
    "#lstm layers\n",
    "model.add(layers.LSTM(100,return_sequences=True))\n",
    "model.add(layers.Dropout(0.5))\n",
    "model.add(layers.LSTM(200))\n",
    "model.add(layers.Dropout(0.5))\n",
    "\n",
    "#dnn layers\n",
    "model.add(layers.Dense(128, activation='relu'))\n",
    "model.add(layers.Dense(1, activation='linear'))\n",
    "model.compile(optimizer = 'adam', loss = 'mse', metrics = ['mse'])\n",
    "model.summary()\n"
   ]
  },
  {
   "cell_type": "code",
   "execution_count": 22,
   "id": "Is6H0VGT314c",
   "metadata": {
    "id": "Is6H0VGT314c"
   },
   "outputs": [],
   "source": [
    "#reshape dataset for cnn input\n",
    "x_train_cnn = x_train.reshape(x_train.shape[0],1,1,x_train.shape[1])\n",
    "x_test_cnn = x_test.reshape(x_test.shape[0],1,1,x_test.shape[1])"
   ]
  },
  {
   "cell_type": "code",
   "execution_count": 23,
   "id": "qJJ8vAGS6Kng",
   "metadata": {
    "colab": {
     "base_uri": "https://localhost:8080/"
    },
    "id": "qJJ8vAGS6Kng",
    "outputId": "cde26905-1924-41c2-e6cf-80321f04f369"
   },
   "outputs": [
    {
     "name": "stdout",
     "output_type": "stream",
     "text": [
      "Epoch 1/50\n",
      " 1/35 [..............................] - ETA: 3s - loss: 6044.2271 - mse: 6044.2271"
     ]
    },
    {
     "name": "stderr",
     "output_type": "stream",
     "text": [
      "/usr/local/lib/python3.7/dist-packages/tensorflow/python/data/ops/structured_function.py:265: UserWarning: Even though the `tf.config.experimental_run_functions_eagerly` option is set, this option does not apply to tf.data functions. To force eager execution of tf.data functions, please use `tf.data.experimental.enable_debug_mode()`.\n",
      "  \"Even though the `tf.config.experimental_run_functions_eagerly` \"\n"
     ]
    },
    {
     "name": "stdout",
     "output_type": "stream",
     "text": [
      "35/35 [==============================] - 2s 48ms/step - loss: 3580.9304 - mse: 3580.9304\n",
      "Epoch 2/50\n",
      "35/35 [==============================] - 2s 47ms/step - loss: 1021.0659 - mse: 1021.0659\n",
      "Epoch 3/50\n",
      "35/35 [==============================] - 2s 47ms/step - loss: 926.4449 - mse: 926.4449\n",
      "Epoch 4/50\n",
      "35/35 [==============================] - 2s 46ms/step - loss: 515.1039 - mse: 515.1039\n",
      "Epoch 5/50\n",
      "35/35 [==============================] - 2s 46ms/step - loss: 192.4723 - mse: 192.4723\n",
      "Epoch 6/50\n",
      "35/35 [==============================] - 2s 44ms/step - loss: 149.3488 - mse: 149.3488\n",
      "Epoch 7/50\n",
      "35/35 [==============================] - 2s 48ms/step - loss: 160.9931 - mse: 160.9931\n",
      "Epoch 8/50\n",
      "35/35 [==============================] - 2s 47ms/step - loss: 175.1109 - mse: 175.1109\n",
      "Epoch 9/50\n",
      "35/35 [==============================] - 2s 47ms/step - loss: 150.7081 - mse: 150.7081\n",
      "Epoch 10/50\n",
      "35/35 [==============================] - 2s 46ms/step - loss: 127.7695 - mse: 127.7695\n",
      "Epoch 11/50\n",
      "35/35 [==============================] - 2s 46ms/step - loss: 139.3209 - mse: 139.3209\n",
      "Epoch 12/50\n",
      "35/35 [==============================] - 2s 46ms/step - loss: 101.6618 - mse: 101.6618\n",
      "Epoch 13/50\n",
      "35/35 [==============================] - 2s 46ms/step - loss: 103.7769 - mse: 103.7769\n",
      "Epoch 14/50\n",
      "35/35 [==============================] - 2s 46ms/step - loss: 158.6380 - mse: 158.6380\n",
      "Epoch 15/50\n",
      "35/35 [==============================] - 2s 46ms/step - loss: 117.8848 - mse: 117.8848\n",
      "Epoch 16/50\n",
      "35/35 [==============================] - 2s 48ms/step - loss: 105.0625 - mse: 105.0625\n",
      "Epoch 17/50\n",
      "35/35 [==============================] - 2s 47ms/step - loss: 112.4343 - mse: 112.4343\n",
      "Epoch 18/50\n",
      "35/35 [==============================] - 2s 46ms/step - loss: 103.4053 - mse: 103.4053\n",
      "Epoch 19/50\n",
      "35/35 [==============================] - 2s 46ms/step - loss: 121.7256 - mse: 121.7256\n",
      "Epoch 20/50\n",
      "35/35 [==============================] - 2s 47ms/step - loss: 101.0105 - mse: 101.0105\n",
      "Epoch 21/50\n",
      "35/35 [==============================] - 2s 48ms/step - loss: 100.8821 - mse: 100.8821\n",
      "Epoch 22/50\n",
      "35/35 [==============================] - 2s 47ms/step - loss: 91.6000 - mse: 91.6000\n",
      "Epoch 23/50\n",
      "35/35 [==============================] - 2s 46ms/step - loss: 96.1428 - mse: 96.1428\n",
      "Epoch 24/50\n",
      "35/35 [==============================] - 2s 46ms/step - loss: 94.9391 - mse: 94.9391\n",
      "Epoch 25/50\n",
      "35/35 [==============================] - 2s 45ms/step - loss: 98.2560 - mse: 98.2560\n",
      "Epoch 26/50\n",
      "35/35 [==============================] - 2s 47ms/step - loss: 100.3590 - mse: 100.3590\n",
      "Epoch 27/50\n",
      "35/35 [==============================] - 2s 47ms/step - loss: 82.3980 - mse: 82.3980\n",
      "Epoch 28/50\n",
      "35/35 [==============================] - 2s 47ms/step - loss: 90.4121 - mse: 90.4121\n",
      "Epoch 29/50\n",
      "35/35 [==============================] - 2s 46ms/step - loss: 81.3203 - mse: 81.3203\n",
      "Epoch 30/50\n",
      "35/35 [==============================] - 2s 46ms/step - loss: 89.4982 - mse: 89.4982\n",
      "Epoch 31/50\n",
      "35/35 [==============================] - 2s 45ms/step - loss: 85.6859 - mse: 85.6859\n",
      "Epoch 32/50\n",
      "35/35 [==============================] - 2s 46ms/step - loss: 108.2077 - mse: 108.2077\n",
      "Epoch 33/50\n",
      "35/35 [==============================] - 2s 46ms/step - loss: 89.6070 - mse: 89.6070\n",
      "Epoch 34/50\n",
      "35/35 [==============================] - 2s 48ms/step - loss: 88.4902 - mse: 88.4902\n",
      "Epoch 35/50\n",
      "35/35 [==============================] - 2s 47ms/step - loss: 103.9594 - mse: 103.9594\n",
      "Epoch 36/50\n",
      "35/35 [==============================] - 2s 45ms/step - loss: 92.5043 - mse: 92.5043\n",
      "Epoch 37/50\n",
      "35/35 [==============================] - 2s 46ms/step - loss: 86.4593 - mse: 86.4593\n",
      "Epoch 38/50\n",
      "35/35 [==============================] - 2s 47ms/step - loss: 87.9508 - mse: 87.9508\n",
      "Epoch 39/50\n",
      "35/35 [==============================] - 2s 47ms/step - loss: 74.9437 - mse: 74.9437\n",
      "Epoch 40/50\n",
      "35/35 [==============================] - 2s 48ms/step - loss: 82.7981 - mse: 82.7981\n",
      "Epoch 41/50\n",
      "35/35 [==============================] - 2s 47ms/step - loss: 72.9041 - mse: 72.9041\n",
      "Epoch 42/50\n",
      "35/35 [==============================] - 2s 48ms/step - loss: 86.6300 - mse: 86.6300\n",
      "Epoch 43/50\n",
      "35/35 [==============================] - 2s 46ms/step - loss: 85.5391 - mse: 85.5391\n",
      "Epoch 44/50\n",
      "35/35 [==============================] - 2s 46ms/step - loss: 90.9375 - mse: 90.9375\n",
      "Epoch 45/50\n",
      "35/35 [==============================] - 2s 46ms/step - loss: 77.7023 - mse: 77.7023\n",
      "Epoch 46/50\n",
      "35/35 [==============================] - 2s 46ms/step - loss: 77.7273 - mse: 77.7273\n",
      "Epoch 47/50\n",
      "35/35 [==============================] - 2s 47ms/step - loss: 72.4398 - mse: 72.4398\n",
      "Epoch 48/50\n",
      "35/35 [==============================] - 2s 49ms/step - loss: 79.5663 - mse: 79.5663\n",
      "Epoch 49/50\n",
      "35/35 [==============================] - 2s 62ms/step - loss: 81.2904 - mse: 81.2904\n",
      "Epoch 50/50\n",
      "35/35 [==============================] - 3s 77ms/step - loss: 76.2701 - mse: 76.2701\n"
     ]
    }
   ],
   "source": [
    "#train the cnn-lstm-dnn model\n",
    "history = model.fit(x_train_cnn,y_train,epochs=50)"
   ]
  },
  {
   "cell_type": "code",
   "execution_count": 24,
   "id": "etI0liwN68he",
   "metadata": {
    "colab": {
     "base_uri": "https://localhost:8080/"
    },
    "id": "etI0liwN68he",
    "outputId": "0ddb56cd-5601-4e78-b718-248f3c55655c"
   },
   "outputs": [
    {
     "name": "stderr",
     "output_type": "stream",
     "text": [
      "/usr/local/lib/python3.7/dist-packages/tensorflow/python/data/ops/structured_function.py:265: UserWarning: Even though the `tf.config.experimental_run_functions_eagerly` option is set, this option does not apply to tf.data functions. To force eager execution of tf.data functions, please use `tf.data.experimental.enable_debug_mode()`.\n",
      "  \"Even though the `tf.config.experimental_run_functions_eagerly` \"\n"
     ]
    }
   ],
   "source": [
    "y_pred = model.predict(x_test_cnn)"
   ]
  },
  {
   "cell_type": "code",
   "execution_count": 25,
   "id": "brIxuU15_Oxc",
   "metadata": {
    "colab": {
     "base_uri": "https://localhost:8080/",
     "height": 265
    },
    "id": "brIxuU15_Oxc",
    "outputId": "c8020357-373c-458f-b58c-3e6d6da5b0d5"
   },
   "outputs": [
    {
     "data": {
      "image/png": "[encoded data removed]",
      "text/plain": [
       "<Figure size 432x288 with 1 Axes>"
      ]
     },
     "metadata": {
      "needs_background": "light"
     },
     "output_type": "display_data"
    }
   ],
   "source": [
    "# Plot predicted on the test set vs real values\n",
    "plt.plot(y_test, label='Actual')\n",
    "plt.plot(y_pred, label='Predicted')\n",
    "plt.legend()\n",
    "plt.show()"
   ]
  },
  {
   "cell_type": "code",
   "execution_count": 25,
   "id": "y2XMPkaB_kBe",
   "metadata": {
    "id": "y2XMPkaB_kBe"
   },
   "outputs": [],
   "source": []
  }
 ],
 "metadata": {
  "colab": {
   "collapsed_sections": [],
   "name": "time_series.ipynb",
   "provenance": []
  },
  "kernelspec": {
   "display_name": "Python 3 (ipykernel)",
   "language": "python",
   "name": "python3"
  },
  "language_info": {
   "codemirror_mode": {
    "name": "ipython",
    "version": 3
   },
   "file_extension": ".py",
   "mimetype": "text/x-python",
   "name": "python",
   "nbconvert_exporter": "python",
   "pygments_lexer": "ipython3",
   "version": "3.9.7"
  }
 },
 "nbformat": 4,
 "nbformat_minor": 5
}
