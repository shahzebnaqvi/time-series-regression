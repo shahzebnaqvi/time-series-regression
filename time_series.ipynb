{
 "cells": [
  {
   "cell_type": "markdown",
   "id": "FmuPFO2nDDhf",
   "metadata": {
    "id": "FmuPFO2nDDhf"
   },
   "source": [
    "## Import Libraries  "
   ]
  },
  {
   "cell_type": "code",
   "execution_count": 47,
   "id": "a7e92127",
   "metadata": {
    "id": "a7e92127"
   },
   "outputs": [],
   "source": [
    "import pandas as pd\n",
    "import numpy as np\n",
    "import tensorflow as tf\n",
    "from sklearn.model_selection import train_test_split\n",
    "from sklearn.linear_model import LinearRegression\n",
    "import matplotlib.pyplot as plt\n",
    "from sklearn.ensemble import RandomForestRegressor\n",
    "from tensorflow.keras.models import Sequential\n",
    "from tensorflow.keras import layers\n"
   ]
  },
  {
   "cell_type": "markdown",
   "id": "DnhUGMi_CcQ-",
   "metadata": {
    "id": "DnhUGMi_CcQ-"
   },
   "source": [
    "## Read the dataset"
   ]
  },
  {
   "cell_type": "code",
   "execution_count": 48,
   "id": "f3a2fc0d",
   "metadata": {
    "id": "f3a2fc0d"
   },
   "outputs": [],
   "source": [
    "df = pd.read_csv('stocks/AMRX.csv')"
   ]
  },
  {
   "cell_type": "code",
   "execution_count": 49,
   "id": "5677daba",
   "metadata": {
    "id": "5677daba"
   },
   "outputs": [],
   "source": [
    "# take close column\n",
    "data = df['Close']"
   ]
  },
  {
   "cell_type": "code",
   "execution_count": 50,
   "id": "a28d578d",
   "metadata": {
    "colab": {
     "base_uri": "https://localhost:8080/"
    },
    "id": "a28d578d",
    "outputId": "02d7d519-fac3-4473-e51f-9d7e53dd193f"
   },
   "outputs": [
    {
     "data": {
      "text/plain": [
       "0    15.01\n",
       "1    14.71\n",
       "2    14.47\n",
       "3    13.95\n",
       "4    14.70\n",
       "Name: Close, dtype: float64"
      ]
     },
     "execution_count": 50,
     "metadata": {},
     "output_type": "execute_result"
    }
   ],
   "source": [
    "data.head()"
   ]
  },
  {
   "cell_type": "markdown",
   "id": "c1NfsheGEZsy",
   "metadata": {
    "id": "c1NfsheGEZsy"
   },
   "source": [
    "## Walk Forward Methodology"
   ]
  },
  {
   "cell_type": "code",
   "execution_count": 51,
   "id": "9ddeeb44",
   "metadata": {
    "id": "9ddeeb44"
   },
   "outputs": [],
   "source": [
    "def walk_forward_methodology(dataset, look_back):\n",
    "\tdataX, dataY = [], []\n",
    "\tfor i in range(len(dataset)-look_back-1):\n",
    "\t\ta = dataset[i:(i+look_back)]\n",
    "\t\tdataX.append(a)\n",
    "\t\tdataY.append(dataset[i + look_back])\n",
    "\treturn np.array(dataX), np.array(dataY)"
   ]
  },
  {
   "cell_type": "code",
   "execution_count": 52,
   "id": "4138ff3c",
   "metadata": {
    "id": "4138ff3c"
   },
   "outputs": [],
   "source": [
    "# take three past days data as input\n",
    "dataX,dataY =  walk_forward_methodology(data,3)"
   ]
  },
  {
   "cell_type": "markdown",
   "id": "6tzvk2sWEnB-",
   "metadata": {
    "id": "6tzvk2sWEnB-"
   },
   "source": [
    "## Split dataset into the train (80%) and test (20%)"
   ]
  },
  {
   "cell_type": "code",
   "execution_count": 53,
   "id": "1ceaac42",
   "metadata": {
    "id": "1ceaac42"
   },
   "outputs": [],
   "source": [
    "x_train,x_test,y_train,y_test = train_test_split(dataX,dataY,test_size=0.2,shuffle=False)"
   ]
  },
  {
   "cell_type": "code",
   "execution_count": 54,
   "id": "0ba5a32b",
   "metadata": {
    "colab": {
     "base_uri": "https://localhost:8080/"
    },
    "id": "0ba5a32b",
    "outputId": "433250b0-a4dc-4111-ff39-9b6983097402"
   },
   "outputs": [
    {
     "data": {
      "text/plain": [
       "array([[15.01000023, 14.71000004, 14.47000027],\n",
       "       [14.71000004, 14.47000027, 13.94999981],\n",
       "       [14.47000027, 13.94999981, 14.69999981],\n",
       "       ...,\n",
       "       [ 3.42000008,  3.44000006,  2.75999999],\n",
       "       [ 3.44000006,  2.75999999,  2.6500001 ],\n",
       "       [ 2.75999999,  2.6500001 ,  2.73000002]])"
      ]
     },
     "execution_count": 54,
     "metadata": {},
     "output_type": "execute_result"
    }
   ],
   "source": [
    "x_train"
   ]
  },
  {
   "cell_type": "markdown",
   "id": "G2Ig25KLEWY3",
   "metadata": {
    "id": "G2Ig25KLEWY3"
   },
   "source": [
    "## Linear Regression"
   ]
  },
  {
   "cell_type": "code",
   "execution_count": 55,
   "id": "2641a10b",
   "metadata": {
    "id": "2641a10b"
   },
   "outputs": [],
   "source": [
    "# Initialize linear regression model\n",
    "LinearRegression = LinearRegression()"
   ]
  },
  {
   "cell_type": "code",
   "execution_count": 56,
   "id": "e8de7b1b",
   "metadata": {
    "colab": {
     "base_uri": "https://localhost:8080/"
    },
    "id": "e8de7b1b",
    "outputId": "90633c39-435a-4732-8859-59f76789a41b"
   },
   "outputs": [
    {
     "data": {
      "text/plain": [
       "LinearRegression()"
      ]
     },
     "execution_count": 56,
     "metadata": {},
     "output_type": "execute_result"
    }
   ],
   "source": [
    "#train the linear regression model\n",
    "LinearRegression.fit(x_train,y_train)"
   ]
  },
  {
   "cell_type": "code",
   "execution_count": 57,
   "id": "5ed75a15",
   "metadata": {
    "id": "5ed75a15"
   },
   "outputs": [],
   "source": [
    "# predicted on the test dataset\n",
    "y_pred = LinearRegression.predict(x_test)"
   ]
  },
  {
   "cell_type": "code",
   "execution_count": 58,
   "id": "886638d3",
   "metadata": {
    "colab": {
     "base_uri": "https://localhost:8080/",
     "height": 265
    },
    "id": "886638d3",
    "outputId": "79ccbf7e-e9db-4b32-90fb-7ab47bc5dbad"
   },
   "outputs": [
    {
     "data": {
      "image/png": "[encoded data removed]",
      "text/plain": [
       "<Figure size 432x288 with 1 Axes>"
      ]
     },
     "metadata": {
      "needs_background": "light"
     },
     "output_type": "display_data"
    }
   ],
   "source": [
    "# Plot predicted on the test set vs real values\n",
    "plt.plot(y_test, label='Actual')\n",
    "plt.plot(y_pred, label='Predicted')\n",
    "plt.legend()\n",
    "plt.show()"
   ]
  },
  {
   "cell_type": "markdown",
   "id": "cLSMrX6JKvrl",
   "metadata": {
    "id": "cLSMrX6JKvrl"
   },
   "source": [
    "## Random Forest Regressor"
   ]
  },
  {
   "cell_type": "code",
   "execution_count": 59,
   "id": "85818f0a",
   "metadata": {
    "id": "85818f0a"
   },
   "outputs": [],
   "source": [
    "# Initialize random forest regressor model\n",
    "RandomForestRegressor = RandomForestRegressor(max_depth=2, random_state=0)"
   ]
  },
  {
   "cell_type": "code",
   "execution_count": 60,
   "id": "u5oPuT3Dzwcy",
   "metadata": {
    "colab": {
     "base_uri": "https://localhost:8080/"
    },
    "id": "u5oPuT3Dzwcy",
    "outputId": "bd736169-d24f-44cc-b32a-b16e750f9ccf"
   },
   "outputs": [
    {
     "data": {
      "text/plain": [
       "RandomForestRegressor(max_depth=2, random_state=0)"
      ]
     },
     "execution_count": 60,
     "metadata": {},
     "output_type": "execute_result"
    }
   ],
   "source": [
    "#train the random forest regressor model\n",
    "RandomForestRegressor.fit(x_train,y_train)"
   ]
  },
  {
   "cell_type": "code",
   "execution_count": 61,
   "id": "6q95ZmyyzwYN",
   "metadata": {
    "id": "6q95ZmyyzwYN"
   },
   "outputs": [],
   "source": [
    "# predicted on the test dataset\n",
    "y_pred = RandomForestRegressor.predict(x_test)"
   ]
  },
  {
   "cell_type": "code",
   "execution_count": 62,
   "id": "7_LneoBYzwSa",
   "metadata": {
    "colab": {
     "base_uri": "https://localhost:8080/",
     "height": 265
    },
    "id": "7_LneoBYzwSa",
    "outputId": "876c1aff-cb56-49f8-8e5a-677fb0416b1b"
   },
   "outputs": [
    {
     "data": {
      "image/png": "[encoded data removed]",
      "text/plain": [
       "<Figure size 432x288 with 1 Axes>"
      ]
     },
     "metadata": {
      "needs_background": "light"
     },
     "output_type": "display_data"
    }
   ],
   "source": [
    "# Plot predicted on the test set vs real values\n",
    "plt.plot(y_test, label='Actual')\n",
    "plt.plot(y_pred, label='Predicted')\n",
    "plt.legend()\n",
    "plt.show()"
   ]
  },
  {
   "cell_type": "markdown",
   "id": "H7vyYw25LR-P",
   "metadata": {
    "id": "H7vyYw25LR-P"
   },
   "source": [
    "## **LSTM-DNN**"
   ]
  },
  {
   "cell_type": "code",
   "execution_count": 63,
   "id": "4630e11d",
   "metadata": {
    "colab": {
     "base_uri": "https://localhost:8080/"
    },
    "id": "4630e11d",
    "outputId": "fa086538-eff9-43dc-d342-135680fd8011"
   },
   "outputs": [
    {
     "name": "stdout",
     "output_type": "stream",
     "text": [
      "Model: \"sequential_11\"\n",
      "_________________________________________________________________\n",
      " Layer (type)                Output Shape              Param #   \n",
      "=================================================================\n",
      " lstm_32 (LSTM)              (None, 3, 100)            40800     \n",
      "                                                                 \n",
      " lstm_33 (LSTM)              (None, 200)               240800    \n",
      "                                                                 \n",
      " dense_29 (Dense)            (None, 128)               25728     \n",
      "                                                                 \n",
      " dense_30 (Dense)            (None, 1)                 129       \n",
      "                                                                 \n",
      "=================================================================\n",
      "Total params: 307,457\n",
      "Trainable params: 307,457\n",
      "Non-trainable params: 0\n",
      "_________________________________________________________________\n"
     ]
    }
   ],
   "source": [
    "\n",
    "\n",
    "model = tf.keras.Sequential([\n",
    "    tf.keras.layers.LSTM(100, input_shape=(3,1),return_sequences=True),\n",
    "    tf.keras.layers.LSTM(200),\n",
    "    tf.keras.layers.Dense(128, activation='relu'),\n",
    "    tf.keras.layers.Dense(1, activation='linear'),\n",
    "\n",
    "])\n",
    "model.compile(optimizer = 'adam', loss = 'mse', metrics = ['mse'])\n",
    "model.summary()\n"
   ]
  },
  {
   "cell_type": "code",
   "execution_count": 64,
   "id": "c1e1d355",
   "metadata": {
    "colab": {
     "base_uri": "https://localhost:8080/"
    },
    "id": "c1e1d355",
    "outputId": "3bec97ce-f720-47c0-c7ad-915c5811b5de"
   },
   "outputs": [
    {
     "name": "stdout",
     "output_type": "stream",
     "text": [
      "Epoch 1/50\n",
      "12/12 [==============================] - 5s 15ms/step - loss: 166.4465 - mse: 166.4465\n",
      "Epoch 2/50\n",
      "12/12 [==============================] - 0s 15ms/step - loss: 34.7697 - mse: 34.7697\n",
      "Epoch 3/50\n",
      "12/12 [==============================] - 0s 14ms/step - loss: 15.4651 - mse: 15.4651\n",
      "Epoch 4/50\n",
      "12/12 [==============================] - 0s 22ms/step - loss: 9.7816 - mse: 9.7816\n",
      "Epoch 5/50\n",
      "12/12 [==============================] - 0s 14ms/step - loss: 4.3351 - mse: 4.3351\n",
      "Epoch 6/50\n",
      "12/12 [==============================] - 0s 14ms/step - loss: 2.2611 - mse: 2.2611\n",
      "Epoch 7/50\n",
      "12/12 [==============================] - 0s 14ms/step - loss: 1.5056 - mse: 1.5056\n",
      "Epoch 8/50\n",
      "12/12 [==============================] - 0s 12ms/step - loss: 1.1536 - mse: 1.1536\n",
      "Epoch 9/50\n",
      "12/12 [==============================] - 0s 13ms/step - loss: 1.0166 - mse: 1.0166\n",
      "Epoch 10/50\n",
      "12/12 [==============================] - 0s 12ms/step - loss: 0.8720 - mse: 0.8720\n",
      "Epoch 11/50\n",
      "12/12 [==============================] - 0s 13ms/step - loss: 0.7049 - mse: 0.7049\n",
      "Epoch 12/50\n",
      "12/12 [==============================] - 0s 12ms/step - loss: 0.6286 - mse: 0.6286\n",
      "Epoch 13/50\n",
      "12/12 [==============================] - 0s 14ms/step - loss: 0.5982 - mse: 0.5982\n",
      "Epoch 14/50\n",
      "12/12 [==============================] - 0s 21ms/step - loss: 0.5984 - mse: 0.5984\n",
      "Epoch 15/50\n",
      "12/12 [==============================] - 0s 13ms/step - loss: 0.5591 - mse: 0.5591\n",
      "Epoch 16/50\n",
      "12/12 [==============================] - 0s 13ms/step - loss: 0.5430 - mse: 0.5430\n",
      "Epoch 17/50\n",
      "12/12 [==============================] - 0s 14ms/step - loss: 0.4735 - mse: 0.4735\n",
      "Epoch 18/50\n",
      "12/12 [==============================] - 0s 14ms/step - loss: 0.4675 - mse: 0.4675\n",
      "Epoch 19/50\n",
      "12/12 [==============================] - 0s 13ms/step - loss: 0.4585 - mse: 0.4585\n",
      "Epoch 20/50\n",
      "12/12 [==============================] - 0s 13ms/step - loss: 0.5879 - mse: 0.5879\n",
      "Epoch 21/50\n",
      "12/12 [==============================] - 0s 16ms/step - loss: 0.4726 - mse: 0.4726\n",
      "Epoch 22/50\n",
      "12/12 [==============================] - 0s 13ms/step - loss: 0.4554 - mse: 0.4554\n",
      "Epoch 23/50\n",
      "12/12 [==============================] - 0s 13ms/step - loss: 0.5462 - mse: 0.5462\n",
      "Epoch 24/50\n",
      "12/12 [==============================] - 0s 12ms/step - loss: 0.4527 - mse: 0.4527\n",
      "Epoch 25/50\n",
      "12/12 [==============================] - 0s 13ms/step - loss: 0.4799 - mse: 0.4799\n",
      "Epoch 26/50\n",
      "12/12 [==============================] - 0s 13ms/step - loss: 0.4090 - mse: 0.4090\n",
      "Epoch 27/50\n",
      "12/12 [==============================] - 0s 15ms/step - loss: 0.5132 - mse: 0.5132\n",
      "Epoch 28/50\n",
      "12/12 [==============================] - 0s 13ms/step - loss: 0.4585 - mse: 0.4585\n",
      "Epoch 29/50\n",
      "12/12 [==============================] - 0s 13ms/step - loss: 0.3900 - mse: 0.3900\n",
      "Epoch 30/50\n",
      "12/12 [==============================] - 0s 12ms/step - loss: 0.3912 - mse: 0.3912\n",
      "Epoch 31/50\n",
      "12/12 [==============================] - 0s 12ms/step - loss: 0.3920 - mse: 0.3920\n",
      "Epoch 32/50\n",
      "12/12 [==============================] - 0s 12ms/step - loss: 0.3818 - mse: 0.3818\n",
      "Epoch 33/50\n",
      "12/12 [==============================] - 0s 12ms/step - loss: 0.3778 - mse: 0.3778\n",
      "Epoch 34/50\n",
      "12/12 [==============================] - 0s 13ms/step - loss: 0.4550 - mse: 0.4550\n",
      "Epoch 35/50\n",
      "12/12 [==============================] - 0s 15ms/step - loss: 0.4569 - mse: 0.4569\n",
      "Epoch 36/50\n",
      "12/12 [==============================] - 0s 15ms/step - loss: 0.4272 - mse: 0.4272\n",
      "Epoch 37/50\n",
      "12/12 [==============================] - 0s 20ms/step - loss: 0.4009 - mse: 0.4009\n",
      "Epoch 38/50\n",
      "12/12 [==============================] - 0s 13ms/step - loss: 0.4538 - mse: 0.4538\n",
      "Epoch 39/50\n",
      "12/12 [==============================] - 0s 12ms/step - loss: 0.5024 - mse: 0.5024\n",
      "Epoch 40/50\n",
      "12/12 [==============================] - 0s 12ms/step - loss: 0.4683 - mse: 0.4683\n",
      "Epoch 41/50\n",
      "12/12 [==============================] - 0s 13ms/step - loss: 0.4860 - mse: 0.4860\n",
      "Epoch 42/50\n",
      "12/12 [==============================] - 0s 13ms/step - loss: 0.3875 - mse: 0.3875\n",
      "Epoch 43/50\n",
      "12/12 [==============================] - 0s 13ms/step - loss: 0.3397 - mse: 0.3397\n",
      "Epoch 44/50\n",
      "12/12 [==============================] - 0s 13ms/step - loss: 0.3781 - mse: 0.3781\n",
      "Epoch 45/50\n",
      "12/12 [==============================] - 0s 13ms/step - loss: 0.4236 - mse: 0.4236\n",
      "Epoch 46/50\n",
      "12/12 [==============================] - 0s 12ms/step - loss: 0.4475 - mse: 0.4475\n",
      "Epoch 47/50\n",
      "12/12 [==============================] - 0s 13ms/step - loss: 0.4143 - mse: 0.4143\n",
      "Epoch 48/50\n",
      "12/12 [==============================] - 0s 12ms/step - loss: 0.4818 - mse: 0.4818\n",
      "Epoch 49/50\n",
      "12/12 [==============================] - 0s 13ms/step - loss: 0.3493 - mse: 0.3493\n",
      "Epoch 50/50\n",
      "12/12 [==============================] - 0s 13ms/step - loss: 0.3416 - mse: 0.3416\n"
     ]
    }
   ],
   "source": [
    "#train the lstm-dnn model\n",
    "history = model.fit(x_train,y_train,epochs=50)"
   ]
  },
  {
   "cell_type": "code",
   "execution_count": 65,
   "id": "mNHVYXPw1Q39",
   "metadata": {
    "id": "mNHVYXPw1Q39"
   },
   "outputs": [
    {
     "name": "stdout",
     "output_type": "stream",
     "text": [
      "3/3 [==============================] - 1s 13ms/step\n"
     ]
    }
   ],
   "source": [
    "# predicted on the test dataset\n",
    "y_pred = model.predict(x_test)"
   ]
  },
  {
   "cell_type": "code",
   "execution_count": 66,
   "id": "nXC0CnLM1xn3",
   "metadata": {
    "colab": {
     "base_uri": "https://localhost:8080/",
     "height": 265
    },
    "id": "nXC0CnLM1xn3",
    "outputId": "3e405754-e253-4a7b-aac5-86f124024dff"
   },
   "outputs": [
    {
     "data": {
      "image/png": "[encoded data removed]",
      "text/plain": [
       "<Figure size 432x288 with 1 Axes>"
      ]
     },
     "metadata": {
      "needs_background": "light"
     },
     "output_type": "display_data"
    }
   ],
   "source": [
    "# Plot predicted on the test set vs real values\n",
    "plt.plot(y_test, label='Actual')\n",
    "plt.plot(y_pred, label='Predicted')\n",
    "plt.legend()\n",
    "plt.show()"
   ]
  },
  {
   "cell_type": "markdown",
   "id": "JPAcQkEHNXXV",
   "metadata": {
    "id": "JPAcQkEHNXXV"
   },
   "source": [
    "## **1D-CNN-LSTM-DNN**"
   ]
  },
  {
   "cell_type": "code",
   "execution_count": 74,
   "id": "O5_boFxm8JSd",
   "metadata": {
    "colab": {
     "base_uri": "https://localhost:8080/"
    },
    "id": "O5_boFxm8JSd",
    "outputId": "83cd78a5-351a-476f-f1a1-02dda041033c"
   },
   "outputs": [
    {
     "name": "stdout",
     "output_type": "stream",
     "text": [
      "Model: \"sequential_13\"\n",
      "_________________________________________________________________\n",
      " Layer (type)                Output Shape              Param #   \n",
      "=================================================================\n",
      " conv1d_2 (Conv1D)           (None, 1, 1, 32)          128       \n",
      "                                                                 \n",
      " conv1d_3 (Conv1D)           (None, 1, 1, 64)          2112      \n",
      "                                                                 \n",
      " reshape_1 (Reshape)         (None, 1, 64)             0         \n",
      "                                                                 \n",
      " lstm_36 (LSTM)              (None, 1, 100)            66000     \n",
      "                                                                 \n",
      " lstm_37 (LSTM)              (None, 200)               240800    \n",
      "                                                                 \n",
      " dense_33 (Dense)            (None, 128)               25728     \n",
      "                                                                 \n",
      " dense_34 (Dense)            (None, 1)                 129       \n",
      "                                                                 \n",
      "=================================================================\n",
      "Total params: 334,897\n",
      "Trainable params: 334,897\n",
      "Non-trainable params: 0\n",
      "_________________________________________________________________\n"
     ]
    }
   ],
   "source": [
    "import tensorflow as tf\n",
    "tf.config.experimental_run_functions_eagerly(True)\n",
    "\n",
    "model = tf.keras.Sequential([\n",
    "    tf.keras.layers.Conv1D(32, kernel_size=1, activation='relu', padding='same', input_shape=(1,1,3)),\n",
    "    tf.keras.layers.Conv1D(64, kernel_size=1, activation='relu', padding='same'),\n",
    "    tf.keras.layers.Reshape((1,64)),\n",
    "    tf.keras.layers.LSTM(100,return_sequences=True),\n",
    "    tf.keras.layers.LSTM(200),\n",
    "    tf.keras.layers.Dense(128, activation='relu'),\n",
    "    tf.keras.layers.Dense(1, activation='linear')\n",
    "\n",
    "])\n",
    "model.compile(optimizer = 'adam', loss = 'mse', metrics = ['mse'])\n",
    "model.summary()"
   ]
  },
  {
   "cell_type": "code",
   "execution_count": 75,
   "id": "Is6H0VGT314c",
   "metadata": {
    "id": "Is6H0VGT314c"
   },
   "outputs": [],
   "source": [
    "#Dataset reshape to cnn input\n",
    "x_train_cnn = x_train.reshape(x_train.shape[0],1,1,x_train.shape[1])\n",
    "x_test_cnn = x_test.reshape(x_test.shape[0],1,1,x_test.shape[1])"
   ]
  },
  {
   "cell_type": "code",
   "execution_count": 76,
   "id": "qJJ8vAGS6Kng",
   "metadata": {
    "colab": {
     "base_uri": "https://localhost:8080/"
    },
    "id": "qJJ8vAGS6Kng",
    "outputId": "cde26905-1924-41c2-e6cf-80321f04f369"
   },
   "outputs": [
    {
     "name": "stdout",
     "output_type": "stream",
     "text": [
      "Epoch 1/50\n",
      " 1/12 [=>............................] - ETA: 0s - loss: 210.6823 - mse: 210.6823"
     ]
    },
    {
     "name": "stderr",
     "output_type": "stream",
     "text": [
      "C:\\Users\\Developer\\anaconda3\\lib\\site-packages\\tensorflow\\python\\data\\ops\\structured_function.py:264: UserWarning: Even though the `tf.config.experimental_run_functions_eagerly` option is set, this option does not apply to tf.data functions. To force eager execution of tf.data functions, please use `tf.data.experimental.enable_debug_mode()`.\n",
      "  warnings.warn(\n"
     ]
    },
    {
     "name": "stdout",
     "output_type": "stream",
     "text": [
      "12/12 [==============================] - 1s 63ms/step - loss: 189.2362 - mse: 189.2362\n",
      "Epoch 2/50\n",
      "12/12 [==============================] - 1s 60ms/step - loss: 75.8087 - mse: 75.8087\n",
      "Epoch 3/50\n",
      "12/12 [==============================] - 1s 55ms/step - loss: 21.8476 - mse: 21.8476\n",
      "Epoch 4/50\n",
      "12/12 [==============================] - 1s 60ms/step - loss: 9.6055 - mse: 9.6055\n",
      "Epoch 5/50\n",
      "12/12 [==============================] - 1s 60ms/step - loss: 4.4071 - mse: 4.4071\n",
      "Epoch 6/50\n",
      "12/12 [==============================] - 1s 78ms/step - loss: 2.2779 - mse: 2.2779\n",
      "Epoch 7/50\n",
      "12/12 [==============================] - 1s 51ms/step - loss: 1.3909 - mse: 1.3909\n",
      "Epoch 8/50\n",
      "12/12 [==============================] - 1s 51ms/step - loss: 1.1120 - mse: 1.1120\n",
      "Epoch 9/50\n",
      "12/12 [==============================] - 1s 55ms/step - loss: 0.8985 - mse: 0.8985\n",
      "Epoch 10/50\n",
      "12/12 [==============================] - 1s 57ms/step - loss: 0.7249 - mse: 0.7249\n",
      "Epoch 11/50\n",
      "12/12 [==============================] - 1s 56ms/step - loss: 0.6334 - mse: 0.6334\n",
      "Epoch 12/50\n",
      "12/12 [==============================] - 1s 59ms/step - loss: 0.5462 - mse: 0.5462\n",
      "Epoch 13/50\n",
      "12/12 [==============================] - 1s 64ms/step - loss: 0.4902 - mse: 0.4902\n",
      "Epoch 14/50\n",
      "12/12 [==============================] - 1s 68ms/step - loss: 0.4675 - mse: 0.4675\n",
      "Epoch 15/50\n",
      "12/12 [==============================] - 1s 67ms/step - loss: 0.4817 - mse: 0.4817\n",
      "Epoch 16/50\n",
      "12/12 [==============================] - 1s 57ms/step - loss: 0.4426 - mse: 0.4426\n",
      "Epoch 17/50\n",
      "12/12 [==============================] - 1s 63ms/step - loss: 0.3772 - mse: 0.3772\n",
      "Epoch 18/50\n",
      "12/12 [==============================] - 1s 56ms/step - loss: 0.3837 - mse: 0.3837\n",
      "Epoch 19/50\n",
      "12/12 [==============================] - 1s 56ms/step - loss: 0.3370 - mse: 0.3370\n",
      "Epoch 20/50\n",
      "12/12 [==============================] - 1s 57ms/step - loss: 0.3132 - mse: 0.3132\n",
      "Epoch 21/50\n",
      "12/12 [==============================] - 1s 54ms/step - loss: 0.3539 - mse: 0.3539\n",
      "Epoch 22/50\n",
      "12/12 [==============================] - 1s 57ms/step - loss: 0.3360 - mse: 0.3360\n",
      "Epoch 23/50\n",
      "12/12 [==============================] - 1s 56ms/step - loss: 0.3769 - mse: 0.3769\n",
      "Epoch 24/50\n",
      "12/12 [==============================] - 1s 57ms/step - loss: 0.3783 - mse: 0.3783\n",
      "Epoch 25/50\n",
      "12/12 [==============================] - 1s 56ms/step - loss: 0.3692 - mse: 0.3692\n",
      "Epoch 26/50\n",
      "12/12 [==============================] - 1s 56ms/step - loss: 0.3067 - mse: 0.3067\n",
      "Epoch 27/50\n",
      "12/12 [==============================] - 1s 55ms/step - loss: 0.3049 - mse: 0.3049\n",
      "Epoch 28/50\n",
      "12/12 [==============================] - 1s 58ms/step - loss: 0.3074 - mse: 0.3074\n",
      "Epoch 29/50\n",
      "12/12 [==============================] - 1s 54ms/step - loss: 0.2876 - mse: 0.2876\n",
      "Epoch 30/50\n",
      "12/12 [==============================] - 1s 57ms/step - loss: 0.3292 - mse: 0.3292\n",
      "Epoch 31/50\n",
      "12/12 [==============================] - 1s 57ms/step - loss: 0.3229 - mse: 0.3229\n",
      "Epoch 32/50\n",
      "12/12 [==============================] - 1s 56ms/step - loss: 0.3254 - mse: 0.3254\n",
      "Epoch 33/50\n",
      "12/12 [==============================] - 1s 59ms/step - loss: 0.4113 - mse: 0.4113\n",
      "Epoch 34/50\n",
      "12/12 [==============================] - 1s 58ms/step - loss: 0.3435 - mse: 0.3435\n",
      "Epoch 35/50\n",
      "12/12 [==============================] - 1s 60ms/step - loss: 0.2956 - mse: 0.2956\n",
      "Epoch 36/50\n",
      "12/12 [==============================] - 1s 55ms/step - loss: 0.3000 - mse: 0.3000\n",
      "Epoch 37/50\n",
      "12/12 [==============================] - 1s 61ms/step - loss: 0.2872 - mse: 0.2872\n",
      "Epoch 38/50\n",
      "12/12 [==============================] - 1s 56ms/step - loss: 0.2998 - mse: 0.2998\n",
      "Epoch 39/50\n",
      "12/12 [==============================] - 1s 54ms/step - loss: 0.3049 - mse: 0.3049\n",
      "Epoch 40/50\n",
      "12/12 [==============================] - 1s 55ms/step - loss: 0.2643 - mse: 0.2643\n",
      "Epoch 41/50\n",
      "12/12 [==============================] - 1s 54ms/step - loss: 0.3092 - mse: 0.3092\n",
      "Epoch 42/50\n",
      "12/12 [==============================] - 1s 55ms/step - loss: 0.2668 - mse: 0.2668\n",
      "Epoch 43/50\n",
      "12/12 [==============================] - 1s 56ms/step - loss: 0.2597 - mse: 0.2597\n",
      "Epoch 44/50\n",
      "12/12 [==============================] - 1s 55ms/step - loss: 0.3395 - mse: 0.3395\n",
      "Epoch 45/50\n",
      "12/12 [==============================] - 1s 61ms/step - loss: 0.4054 - mse: 0.4054\n",
      "Epoch 46/50\n",
      "12/12 [==============================] - 1s 58ms/step - loss: 0.3592 - mse: 0.3592\n",
      "Epoch 47/50\n",
      "12/12 [==============================] - 1s 63ms/step - loss: 0.2616 - mse: 0.2616\n",
      "Epoch 48/50\n",
      "12/12 [==============================] - 1s 74ms/step - loss: 0.2786 - mse: 0.2786\n",
      "Epoch 49/50\n",
      "12/12 [==============================] - 1s 60ms/step - loss: 0.2866 - mse: 0.2866\n",
      "Epoch 50/50\n",
      "12/12 [==============================] - 1s 55ms/step - loss: 0.2779 - mse: 0.2779\n"
     ]
    }
   ],
   "source": [
    "#cnn-lstm-dnn model training\n",
    "history = model.fit(x_train_cnn,y_train,epochs=50)"
   ]
  },
  {
   "cell_type": "code",
   "execution_count": 70,
   "id": "etI0liwN68he",
   "metadata": {
    "colab": {
     "base_uri": "https://localhost:8080/"
    },
    "id": "etI0liwN68he",
    "outputId": "0ddb56cd-5601-4e78-b718-248f3c55655c"
   },
   "outputs": [
    {
     "name": "stdout",
     "output_type": "stream",
     "text": [
      "3/3 [==============================] - 0s 30ms/step\n"
     ]
    }
   ],
   "source": [
    "y_pred = model.predict(x_test_cnn)"
   ]
  },
  {
   "cell_type": "code",
   "execution_count": 73,
   "id": "brIxuU15_Oxc",
   "metadata": {
    "colab": {
     "base_uri": "https://localhost:8080/",
     "height": 265
    },
    "id": "brIxuU15_Oxc",
    "outputId": "c8020357-373c-458f-b58c-3e6d6da5b0d5"
   },
   "outputs": [
    {
     "data": {
      "image/png": "[encoded data removed]",
      "text/plain": [
       "<Figure size 432x288 with 1 Axes>"
      ]
     },
     "metadata": {
      "needs_background": "light"
     },
     "output_type": "display_data"
    }
   ],
   "source": [
    "# Predicted value charts and actual values chart comparison\n",
    "plt.plot(y_test, label='Actual',color='green')\n",
    "plt.plot(y_pred, label='Predicted',color='red')\n",
    "plt.legend()\n",
    "plt.show()"
   ]
  },
  {
   "cell_type": "code",
   "execution_count": null,
   "id": "y2XMPkaB_kBe",
   "metadata": {
    "id": "y2XMPkaB_kBe"
   },
   "outputs": [],
   "source": []
  },
  {
   "cell_type": "code",
   "execution_count": null,
   "id": "a88e026c",
   "metadata": {},
   "outputs": [],
   "source": []
  }
 ],
 "metadata": {
  "colab": {
   "collapsed_sections": [],
   "name": "time_series.ipynb",
   "provenance": []
  },
  "kernelspec": {
   "display_name": "Python 3 (ipykernel)",
   "language": "python",
   "name": "python3"
  },
  "language_info": {
   "codemirror_mode": {
    "name": "ipython",
    "version": 3
   },
   "file_extension": ".py",
   "mimetype": "text/x-python",
   "name": "python",
   "nbconvert_exporter": "python",
   "pygments_lexer": "ipython3",
   "version": "3.9.7"
  }
 },
 "nbformat": 4,
 "nbformat_minor": 5
}
