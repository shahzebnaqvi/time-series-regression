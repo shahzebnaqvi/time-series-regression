{
 "cells": [
  {
   "cell_type": "markdown",
   "id": "FmuPFO2nDDhf",
   "metadata": {
    "id": "FmuPFO2nDDhf"
   },
   "source": [
    "## Import Libraries  "
   ]
  },
  {
   "cell_type": "code",
   "execution_count": 47,
   "id": "a7e92127",
   "metadata": {
    "id": "a7e92127"
   },
   "outputs": [],
   "source": [
    "import pandas as pd\n",
    "import numpy as np\n",
    "import tensorflow as tf\n",
    "from sklearn.model_selection import train_test_split\n",
    "from sklearn.linear_model import LinearRegression\n",
    "import matplotlib.pyplot as plt\n",
    "from sklearn.ensemble import RandomForestRegressor\n",
    "from tensorflow.keras.models import Sequential\n",
    "from tensorflow.keras import layers\n"
   ]
  },
  {
   "cell_type": "markdown",
   "id": "DnhUGMi_CcQ-",
   "metadata": {
    "id": "DnhUGMi_CcQ-"
   },
   "source": [
    "## Read the dataset"
   ]
  },
  {
   "cell_type": "code",
   "execution_count": 77,
   "id": "f3a2fc0d",
   "metadata": {
    "id": "f3a2fc0d"
   },
   "outputs": [],
   "source": [
    "df = pd.read_csv('stocks/AMRX.csv')"
   ]
  },
  {
   "cell_type": "code",
   "execution_count": 78,
   "id": "5677daba",
   "metadata": {
    "id": "5677daba"
   },
   "outputs": [],
   "source": [
    "# take close column\n",
    "data = df['Close']"
   ]
  },
  {
   "cell_type": "code",
   "execution_count": 79,
   "id": "a28d578d",
   "metadata": {
    "colab": {
     "base_uri": "https://localhost:8080/"
    },
    "id": "a28d578d",
    "outputId": "02d7d519-fac3-4473-e51f-9d7e53dd193f"
   },
   "outputs": [
    {
     "data": {
      "text/plain": [
       "0    15.01\n",
       "1    14.71\n",
       "2    14.47\n",
       "3    13.95\n",
       "4    14.70\n",
       "Name: Close, dtype: float64"
      ]
     },
     "execution_count": 79,
     "metadata": {},
     "output_type": "execute_result"
    }
   ],
   "source": [
    "data.head()"
   ]
  },
  {
   "cell_type": "markdown",
   "id": "c1NfsheGEZsy",
   "metadata": {
    "id": "c1NfsheGEZsy"
   },
   "source": [
    "## Walk Forward Methodology"
   ]
  },
  {
   "cell_type": "code",
   "execution_count": 80,
   "id": "9ddeeb44",
   "metadata": {
    "id": "9ddeeb44"
   },
   "outputs": [],
   "source": [
    "def walk_forward_methodology(dataset, look_back):\n",
    "\tdataX, dataY = [], []\n",
    "\tfor i in range(len(dataset)-look_back-1):\n",
    "\t\ta = dataset[i:(i+look_back)]\n",
    "\t\tdataX.append(a)\n",
    "\t\tdataY.append(dataset[i + look_back])\n",
    "\treturn np.array(dataX), np.array(dataY)"
   ]
  },
  {
   "cell_type": "code",
   "execution_count": 81,
   "id": "4138ff3c",
   "metadata": {
    "id": "4138ff3c"
   },
   "outputs": [],
   "source": [
    "# take three past days data as input\n",
    "dataX,dataY =  walk_forward_methodology(data,3)"
   ]
  },
  {
   "cell_type": "markdown",
   "id": "6tzvk2sWEnB-",
   "metadata": {
    "id": "6tzvk2sWEnB-"
   },
   "source": [
    "## Split dataset into the train (80%) and test (20%)"
   ]
  },
  {
   "cell_type": "code",
   "execution_count": 82,
   "id": "1ceaac42",
   "metadata": {
    "id": "1ceaac42"
   },
   "outputs": [],
   "source": [
    "x_train,x_test,y_train,y_test = train_test_split(dataX,dataY,test_size=0.2,shuffle=False)"
   ]
  },
  {
   "cell_type": "code",
   "execution_count": 83,
   "id": "0ba5a32b",
   "metadata": {
    "colab": {
     "base_uri": "https://localhost:8080/"
    },
    "id": "0ba5a32b",
    "outputId": "433250b0-a4dc-4111-ff39-9b6983097402"
   },
   "outputs": [
    {
     "data": {
      "text/plain": [
       "array([[15.01000023, 14.71000004, 14.47000027],\n",
       "       [14.71000004, 14.47000027, 13.94999981],\n",
       "       [14.47000027, 13.94999981, 14.69999981],\n",
       "       ...,\n",
       "       [ 3.42000008,  3.44000006,  2.75999999],\n",
       "       [ 3.44000006,  2.75999999,  2.6500001 ],\n",
       "       [ 2.75999999,  2.6500001 ,  2.73000002]])"
      ]
     },
     "execution_count": 83,
     "metadata": {},
     "output_type": "execute_result"
    }
   ],
   "source": [
    "x_train"
   ]
  },
  {
   "cell_type": "markdown",
   "id": "G2Ig25KLEWY3",
   "metadata": {
    "id": "G2Ig25KLEWY3"
   },
   "source": [
    "## Linear Regression"
   ]
  },
  {
   "cell_type": "code",
   "execution_count": 84,
   "id": "2641a10b",
   "metadata": {
    "id": "2641a10b"
   },
   "outputs": [
    {
     "ename": "TypeError",
     "evalue": "'LinearRegression' object is not callable",
     "output_type": "error",
     "traceback": [
      "\u001b[1;31m---------------------------------------------------------------------------\u001b[0m",
      "\u001b[1;31mTypeError\u001b[0m                                 Traceback (most recent call last)",
      "\u001b[1;32mC:\\Users\\DEVELO~1\\AppData\\Local\\Temp/ipykernel_15092/3114291083.py\u001b[0m in \u001b[0;36m<module>\u001b[1;34m\u001b[0m\n\u001b[0;32m      1\u001b[0m \u001b[1;31m# Initialize linear regression model\u001b[0m\u001b[1;33m\u001b[0m\u001b[1;33m\u001b[0m\u001b[0m\n\u001b[1;32m----> 2\u001b[1;33m \u001b[0mLinearRegression\u001b[0m \u001b[1;33m=\u001b[0m \u001b[0mLinearRegression\u001b[0m\u001b[1;33m(\u001b[0m\u001b[1;33m)\u001b[0m\u001b[1;33m\u001b[0m\u001b[1;33m\u001b[0m\u001b[0m\n\u001b[0m",
      "\u001b[1;31mTypeError\u001b[0m: 'LinearRegression' object is not callable"
     ]
    }
   ],
   "source": [
    "# Initialize linear regression model\n",
    "LinearRegression = LinearRegression()"
   ]
  },
  {
   "cell_type": "code",
   "execution_count": 85,
   "id": "e8de7b1b",
   "metadata": {
    "colab": {
     "base_uri": "https://localhost:8080/"
    },
    "id": "e8de7b1b",
    "outputId": "90633c39-435a-4732-8859-59f76789a41b"
   },
   "outputs": [
    {
     "data": {
      "text/plain": [
       "LinearRegression()"
      ]
     },
     "execution_count": 85,
     "metadata": {},
     "output_type": "execute_result"
    }
   ],
   "source": [
    "#train the linear regression model\n",
    "LinearRegression.fit(x_train,y_train)"
   ]
  },
  {
   "cell_type": "code",
   "execution_count": 86,
   "id": "5ed75a15",
   "metadata": {
    "id": "5ed75a15"
   },
   "outputs": [],
   "source": [
    "# predicted on the test dataset\n",
    "y_pred = LinearRegression.predict(x_test)"
   ]
  },
  {
   "cell_type": "code",
   "execution_count": 87,
   "id": "886638d3",
   "metadata": {
    "colab": {
     "base_uri": "https://localhost:8080/",
     "height": 265
    },
    "id": "886638d3",
    "outputId": "79ccbf7e-e9db-4b32-90fb-7ab47bc5dbad"
   },
   "outputs": [
    {
     "data": {
      "image/png": "[encoded data removed]",
      "text/plain": [
       "<Figure size 432x288 with 1 Axes>"
      ]
     },
     "metadata": {
      "needs_background": "light"
     },
     "output_type": "display_data"
    }
   ],
   "source": [
    "# Plot predicted on the test set vs real values\n",
    "plt.plot(y_test, label='Actual',color='green')\n",
    "plt.plot(y_pred, label='Predicted',color='red')\n",
    "plt.legend()\n",
    "plt.show()"
   ]
  },
  {
   "cell_type": "markdown",
   "id": "cLSMrX6JKvrl",
   "metadata": {
    "id": "cLSMrX6JKvrl"
   },
   "source": [
    "## Random Forest Regressor"
   ]
  },
  {
   "cell_type": "code",
   "execution_count": 88,
   "id": "85818f0a",
   "metadata": {
    "id": "85818f0a"
   },
   "outputs": [
    {
     "ename": "TypeError",
     "evalue": "'RandomForestRegressor' object is not callable",
     "output_type": "error",
     "traceback": [
      "\u001b[1;31m---------------------------------------------------------------------------\u001b[0m",
      "\u001b[1;31mTypeError\u001b[0m                                 Traceback (most recent call last)",
      "\u001b[1;32mC:\\Users\\DEVELO~1\\AppData\\Local\\Temp/ipykernel_15092/2483146582.py\u001b[0m in \u001b[0;36m<module>\u001b[1;34m\u001b[0m\n\u001b[0;32m      1\u001b[0m \u001b[1;31m# Initialize random forest regressor model\u001b[0m\u001b[1;33m\u001b[0m\u001b[1;33m\u001b[0m\u001b[0m\n\u001b[1;32m----> 2\u001b[1;33m \u001b[0mRandomForestRegressor\u001b[0m \u001b[1;33m=\u001b[0m \u001b[0mRandomForestRegressor\u001b[0m\u001b[1;33m(\u001b[0m\u001b[0mmax_depth\u001b[0m\u001b[1;33m=\u001b[0m\u001b[1;36m2\u001b[0m\u001b[1;33m,\u001b[0m \u001b[0mrandom_state\u001b[0m\u001b[1;33m=\u001b[0m\u001b[1;36m0\u001b[0m\u001b[1;33m)\u001b[0m\u001b[1;33m\u001b[0m\u001b[1;33m\u001b[0m\u001b[0m\n\u001b[0m",
      "\u001b[1;31mTypeError\u001b[0m: 'RandomForestRegressor' object is not callable"
     ]
    }
   ],
   "source": [
    "# Initialize random forest regressor model\n",
    "RandomForestRegressor = RandomForestRegressor(max_depth=2, random_state=0)"
   ]
  },
  {
   "cell_type": "code",
   "execution_count": 89,
   "id": "u5oPuT3Dzwcy",
   "metadata": {
    "colab": {
     "base_uri": "https://localhost:8080/"
    },
    "id": "u5oPuT3Dzwcy",
    "outputId": "bd736169-d24f-44cc-b32a-b16e750f9ccf"
   },
   "outputs": [
    {
     "data": {
      "text/plain": [
       "RandomForestRegressor(max_depth=2, random_state=0)"
      ]
     },
     "execution_count": 89,
     "metadata": {},
     "output_type": "execute_result"
    }
   ],
   "source": [
    "#train the random forest regressor model\n",
    "RandomForestRegressor.fit(x_train,y_train)"
   ]
  },
  {
   "cell_type": "code",
   "execution_count": 90,
   "id": "6q95ZmyyzwYN",
   "metadata": {
    "id": "6q95ZmyyzwYN"
   },
   "outputs": [],
   "source": [
    "# predicted on the test dataset\n",
    "y_pred = RandomForestRegressor.predict(x_test)"
   ]
  },
  {
   "cell_type": "code",
   "execution_count": 91,
   "id": "7_LneoBYzwSa",
   "metadata": {
    "colab": {
     "base_uri": "https://localhost:8080/",
     "height": 265
    },
    "id": "7_LneoBYzwSa",
    "outputId": "876c1aff-cb56-49f8-8e5a-677fb0416b1b"
   },
   "outputs": [
    {
     "data": {
      "image/png": "[encoded data removed]",
      "text/plain": [
       "<Figure size 432x288 with 1 Axes>"
      ]
     },
     "metadata": {
      "needs_background": "light"
     },
     "output_type": "display_data"
    }
   ],
   "source": [
    "# Plot predicted on the test set vs real values\n",
    "plt.plot(y_test, label='Actual',color='green')\n",
    "plt.plot(y_pred, label='Predicted',color='red')\n",
    "plt.legend()\n",
    "plt.show()"
   ]
  },
  {
   "cell_type": "markdown",
   "id": "H7vyYw25LR-P",
   "metadata": {
    "id": "H7vyYw25LR-P"
   },
   "source": [
    "## **LSTM-DNN**"
   ]
  },
  {
   "cell_type": "code",
   "execution_count": 92,
   "id": "4630e11d",
   "metadata": {
    "colab": {
     "base_uri": "https://localhost:8080/"
    },
    "id": "4630e11d",
    "outputId": "fa086538-eff9-43dc-d342-135680fd8011"
   },
   "outputs": [
    {
     "name": "stdout",
     "output_type": "stream",
     "text": [
      "Model: \"sequential_14\"\n",
      "_________________________________________________________________\n",
      " Layer (type)                Output Shape              Param #   \n",
      "=================================================================\n",
      " lstm_38 (LSTM)              (None, 3, 100)            40800     \n",
      "                                                                 \n",
      " lstm_39 (LSTM)              (None, 200)               240800    \n",
      "                                                                 \n",
      " dense_35 (Dense)            (None, 128)               25728     \n",
      "                                                                 \n",
      " dense_36 (Dense)            (None, 1)                 129       \n",
      "                                                                 \n",
      "=================================================================\n",
      "Total params: 307,457\n",
      "Trainable params: 307,457\n",
      "Non-trainable params: 0\n",
      "_________________________________________________________________\n"
     ]
    }
   ],
   "source": [
    "\n",
    "\n",
    "model = tf.keras.Sequential([\n",
    "    tf.keras.layers.LSTM(100, input_shape=(3,1),return_sequences=True),\n",
    "    tf.keras.layers.LSTM(200),\n",
    "    tf.keras.layers.Dense(128, activation='relu'),\n",
    "    tf.keras.layers.Dense(1, activation='linear'),\n",
    "\n",
    "])\n",
    "model.compile(optimizer = 'adam', loss = 'mse', metrics = ['mse'])\n",
    "model.summary()\n"
   ]
  },
  {
   "cell_type": "code",
   "execution_count": 93,
   "id": "c1e1d355",
   "metadata": {
    "colab": {
     "base_uri": "https://localhost:8080/"
    },
    "id": "c1e1d355",
    "outputId": "3bec97ce-f720-47c0-c7ad-915c5811b5de"
   },
   "outputs": [
    {
     "name": "stdout",
     "output_type": "stream",
     "text": [
      "Epoch 1/50\n",
      " 1/12 [=>............................] - ETA: 0s - loss: 237.5599 - mse: 237.5599"
     ]
    },
    {
     "name": "stderr",
     "output_type": "stream",
     "text": [
      "C:\\Users\\Developer\\anaconda3\\lib\\site-packages\\tensorflow\\python\\data\\ops\\structured_function.py:264: UserWarning: Even though the `tf.config.experimental_run_functions_eagerly` option is set, this option does not apply to tf.data functions. To force eager execution of tf.data functions, please use `tf.data.experimental.enable_debug_mode()`.\n",
      "  warnings.warn(\n"
     ]
    },
    {
     "name": "stdout",
     "output_type": "stream",
     "text": [
      "12/12 [==============================] - 1s 67ms/step - loss: 152.8395 - mse: 152.8395\n",
      "Epoch 2/50\n",
      "12/12 [==============================] - 1s 69ms/step - loss: 30.1161 - mse: 30.1161\n",
      "Epoch 3/50\n",
      "12/12 [==============================] - 1s 69ms/step - loss: 13.7307 - mse: 13.7307\n",
      "Epoch 4/50\n",
      "12/12 [==============================] - 1s 105ms/step - loss: 8.5329 - mse: 8.5329\n",
      "Epoch 5/50\n",
      "12/12 [==============================] - 1s 68ms/step - loss: 4.2692 - mse: 4.2692\n",
      "Epoch 6/50\n",
      "12/12 [==============================] - 1s 66ms/step - loss: 2.1912 - mse: 2.1912\n",
      "Epoch 7/50\n",
      "12/12 [==============================] - 1s 68ms/step - loss: 1.4418 - mse: 1.4418\n",
      "Epoch 8/50\n",
      "12/12 [==============================] - 1s 81ms/step - loss: 1.1886 - mse: 1.1886\n",
      "Epoch 9/50\n",
      "12/12 [==============================] - 1s 67ms/step - loss: 0.9867 - mse: 0.9867\n",
      "Epoch 10/50\n",
      "12/12 [==============================] - 1s 64ms/step - loss: 0.7692 - mse: 0.7692\n",
      "Epoch 11/50\n",
      "12/12 [==============================] - 1s 73ms/step - loss: 0.6236 - mse: 0.6236\n",
      "Epoch 12/50\n",
      "12/12 [==============================] - 1s 67ms/step - loss: 0.5466 - mse: 0.5466\n",
      "Epoch 13/50\n",
      "12/12 [==============================] - 1s 69ms/step - loss: 0.4997 - mse: 0.4997\n",
      "Epoch 14/50\n",
      "12/12 [==============================] - 1s 74ms/step - loss: 0.4660 - mse: 0.4660\n",
      "Epoch 15/50\n",
      "12/12 [==============================] - 1s 76ms/step - loss: 0.4795 - mse: 0.4795\n",
      "Epoch 16/50\n",
      "12/12 [==============================] - 1s 68ms/step - loss: 0.4814 - mse: 0.4814\n",
      "Epoch 17/50\n",
      "12/12 [==============================] - 1s 62ms/step - loss: 0.4549 - mse: 0.4549\n",
      "Epoch 18/50\n",
      "12/12 [==============================] - 1s 67ms/step - loss: 0.4439 - mse: 0.4439\n",
      "Epoch 19/50\n",
      "12/12 [==============================] - 1s 65ms/step - loss: 0.3984 - mse: 0.3984\n",
      "Epoch 20/50\n",
      "12/12 [==============================] - 1s 74ms/step - loss: 0.4133 - mse: 0.4133\n",
      "Epoch 21/50\n",
      "12/12 [==============================] - 1s 61ms/step - loss: 0.4097 - mse: 0.4097\n",
      "Epoch 22/50\n",
      "12/12 [==============================] - 1s 59ms/step - loss: 0.4497 - mse: 0.4497\n",
      "Epoch 23/50\n",
      "12/12 [==============================] - 1s 67ms/step - loss: 0.4600 - mse: 0.4600\n",
      "Epoch 24/50\n",
      "12/12 [==============================] - 1s 67ms/step - loss: 0.4815 - mse: 0.4815\n",
      "Epoch 25/50\n",
      "12/12 [==============================] - 1s 68ms/step - loss: 0.4431 - mse: 0.4431\n",
      "Epoch 26/50\n",
      "12/12 [==============================] - 1s 77ms/step - loss: 0.4239 - mse: 0.4239\n",
      "Epoch 27/50\n",
      "12/12 [==============================] - 1s 72ms/step - loss: 0.4012 - mse: 0.4012\n",
      "Epoch 28/50\n",
      "12/12 [==============================] - 1s 63ms/step - loss: 0.3723 - mse: 0.3723\n",
      "Epoch 29/50\n",
      "12/12 [==============================] - 1s 62ms/step - loss: 0.4869 - mse: 0.4869\n",
      "Epoch 30/50\n",
      "12/12 [==============================] - 1s 62ms/step - loss: 0.5352 - mse: 0.5352\n",
      "Epoch 31/50\n",
      "12/12 [==============================] - 1s 59ms/step - loss: 0.5100 - mse: 0.5100\n",
      "Epoch 32/50\n",
      "12/12 [==============================] - 1s 61ms/step - loss: 0.4282 - mse: 0.4282\n",
      "Epoch 33/50\n",
      "12/12 [==============================] - 1s 62ms/step - loss: 0.3661 - mse: 0.3661\n",
      "Epoch 34/50\n",
      "12/12 [==============================] - 1s 71ms/step - loss: 0.3937 - mse: 0.3937\n",
      "Epoch 35/50\n",
      "12/12 [==============================] - 1s 72ms/step - loss: 0.3955 - mse: 0.3955\n",
      "Epoch 36/50\n",
      "12/12 [==============================] - 1s 73ms/step - loss: 0.3543 - mse: 0.3543\n",
      "Epoch 37/50\n",
      "12/12 [==============================] - 1s 80ms/step - loss: 0.4015 - mse: 0.4015\n",
      "Epoch 38/50\n",
      "12/12 [==============================] - 1s 81ms/step - loss: 0.3669 - mse: 0.3669\n",
      "Epoch 39/50\n",
      "12/12 [==============================] - 1s 75ms/step - loss: 0.3875 - mse: 0.3875\n",
      "Epoch 40/50\n",
      "12/12 [==============================] - 1s 82ms/step - loss: 0.3665 - mse: 0.3665\n",
      "Epoch 41/50\n",
      "12/12 [==============================] - 1s 71ms/step - loss: 0.3888 - mse: 0.3888\n",
      "Epoch 42/50\n",
      "12/12 [==============================] - 1s 70ms/step - loss: 0.3905 - mse: 0.3905\n",
      "Epoch 43/50\n",
      "12/12 [==============================] - 2s 127ms/step - loss: 0.3571 - mse: 0.3571\n",
      "Epoch 44/50\n",
      "12/12 [==============================] - 1s 75ms/step - loss: 0.3901 - mse: 0.3901\n",
      "Epoch 45/50\n",
      "12/12 [==============================] - 1s 82ms/step - loss: 0.5200 - mse: 0.5200\n",
      "Epoch 46/50\n",
      "12/12 [==============================] - 1s 69ms/step - loss: 0.3646 - mse: 0.3646\n",
      "Epoch 47/50\n",
      "12/12 [==============================] - 1s 64ms/step - loss: 0.3363 - mse: 0.3363\n",
      "Epoch 48/50\n",
      "12/12 [==============================] - 1s 64ms/step - loss: 0.3241 - mse: 0.3241\n",
      "Epoch 49/50\n",
      "12/12 [==============================] - 1s 62ms/step - loss: 0.3086 - mse: 0.3086\n",
      "Epoch 50/50\n",
      "12/12 [==============================] - 1s 59ms/step - loss: 0.3070 - mse: 0.3070\n"
     ]
    }
   ],
   "source": [
    "#train the lstm-dnn model\n",
    "history = model.fit(x_train,y_train,epochs=50)"
   ]
  },
  {
   "cell_type": "code",
   "execution_count": 94,
   "id": "mNHVYXPw1Q39",
   "metadata": {
    "id": "mNHVYXPw1Q39"
   },
   "outputs": [
    {
     "name": "stdout",
     "output_type": "stream",
     "text": [
      "3/3 [==============================] - 0s 29ms/step\n"
     ]
    }
   ],
   "source": [
    "# predicted on the test dataset\n",
    "y_pred = model.predict(x_test)"
   ]
  },
  {
   "cell_type": "code",
   "execution_count": 95,
   "id": "nXC0CnLM1xn3",
   "metadata": {
    "colab": {
     "base_uri": "https://localhost:8080/",
     "height": 265
    },
    "id": "nXC0CnLM1xn3",
    "outputId": "3e405754-e253-4a7b-aac5-86f124024dff"
   },
   "outputs": [
    {
     "data": {
      "image/png": "[encoded data removed]",
      "text/plain": [
       "<Figure size 432x288 with 1 Axes>"
      ]
     },
     "metadata": {
      "needs_background": "light"
     },
     "output_type": "display_data"
    }
   ],
   "source": [
    "# Plot predicted on the test set vs real values\n",
    "plt.plot(y_test, label='Actual',color='green')\n",
    "plt.plot(y_pred, label='Predicted',color='red')\n",
    "plt.legend()\n",
    "plt.show()"
   ]
  },
  {
   "cell_type": "markdown",
   "id": "JPAcQkEHNXXV",
   "metadata": {
    "id": "JPAcQkEHNXXV"
   },
   "source": [
    "## **1D-CNN-LSTM-DNN**"
   ]
  },
  {
   "cell_type": "code",
   "execution_count": 96,
   "id": "O5_boFxm8JSd",
   "metadata": {
    "colab": {
     "base_uri": "https://localhost:8080/"
    },
    "id": "O5_boFxm8JSd",
    "outputId": "83cd78a5-351a-476f-f1a1-02dda041033c"
   },
   "outputs": [
    {
     "name": "stdout",
     "output_type": "stream",
     "text": [
      "Model: \"sequential_15\"\n",
      "_________________________________________________________________\n",
      " Layer (type)                Output Shape              Param #   \n",
      "=================================================================\n",
      " conv1d_4 (Conv1D)           (None, 1, 1, 32)          128       \n",
      "                                                                 \n",
      " conv1d_5 (Conv1D)           (None, 1, 1, 64)          2112      \n",
      "                                                                 \n",
      " reshape_2 (Reshape)         (None, 1, 64)             0         \n",
      "                                                                 \n",
      " lstm_40 (LSTM)              (None, 1, 100)            66000     \n",
      "                                                                 \n",
      " lstm_41 (LSTM)              (None, 200)               240800    \n",
      "                                                                 \n",
      " dense_37 (Dense)            (None, 128)               25728     \n",
      "                                                                 \n",
      " dense_38 (Dense)            (None, 1)                 129       \n",
      "                                                                 \n",
      "=================================================================\n",
      "Total params: 334,897\n",
      "Trainable params: 334,897\n",
      "Non-trainable params: 0\n",
      "_________________________________________________________________\n"
     ]
    }
   ],
   "source": [
    "import tensorflow as tf\n",
    "tf.config.experimental_run_functions_eagerly(True)\n",
    "\n",
    "model = tf.keras.Sequential([\n",
    "    tf.keras.layers.Conv1D(32, kernel_size=1, activation='relu', padding='same', input_shape=(1,1,3)),\n",
    "    tf.keras.layers.Conv1D(64, kernel_size=1, activation='relu', padding='same'),\n",
    "    tf.keras.layers.Reshape((1,64)),\n",
    "    tf.keras.layers.LSTM(100,return_sequences=True),\n",
    "    tf.keras.layers.LSTM(200),\n",
    "    tf.keras.layers.Dense(128, activation='relu'),\n",
    "    tf.keras.layers.Dense(1, activation='linear')\n",
    "\n",
    "])\n",
    "model.compile(optimizer = 'adam', loss = 'mse', metrics = ['mse'])\n",
    "model.summary()"
   ]
  },
  {
   "cell_type": "code",
   "execution_count": 97,
   "id": "Is6H0VGT314c",
   "metadata": {
    "id": "Is6H0VGT314c"
   },
   "outputs": [],
   "source": [
    "#Dataset reshape to cnn input\n",
    "x_train_cnn = x_train.reshape(x_train.shape[0],1,1,x_train.shape[1])\n",
    "x_test_cnn = x_test.reshape(x_test.shape[0],1,1,x_test.shape[1])"
   ]
  },
  {
   "cell_type": "code",
   "execution_count": 98,
   "id": "qJJ8vAGS6Kng",
   "metadata": {
    "colab": {
     "base_uri": "https://localhost:8080/"
    },
    "id": "qJJ8vAGS6Kng",
    "outputId": "cde26905-1924-41c2-e6cf-80321f04f369"
   },
   "outputs": [
    {
     "name": "stdout",
     "output_type": "stream",
     "text": [
      "Epoch 1/50\n",
      " 2/12 [====>.........................] - ETA: 0s - loss: 195.4950 - mse: 195.4950"
     ]
    },
    {
     "name": "stderr",
     "output_type": "stream",
     "text": [
      "C:\\Users\\Developer\\anaconda3\\lib\\site-packages\\tensorflow\\python\\data\\ops\\structured_function.py:264: UserWarning: Even though the `tf.config.experimental_run_functions_eagerly` option is set, this option does not apply to tf.data functions. To force eager execution of tf.data functions, please use `tf.data.experimental.enable_debug_mode()`.\n",
      "  warnings.warn(\n"
     ]
    },
    {
     "name": "stdout",
     "output_type": "stream",
     "text": [
      "12/12 [==============================] - 1s 62ms/step - loss: 192.0830 - mse: 192.0830\n",
      "Epoch 2/50\n",
      "12/12 [==============================] - 1s 70ms/step - loss: 91.0768 - mse: 91.0768\n",
      "Epoch 3/50\n",
      "12/12 [==============================] - 1s 56ms/step - loss: 22.6163 - mse: 22.6163\n",
      "Epoch 4/50\n",
      "12/12 [==============================] - 1s 59ms/step - loss: 9.2528 - mse: 9.2528\n",
      "Epoch 5/50\n",
      "12/12 [==============================] - 1s 56ms/step - loss: 3.7108 - mse: 3.7108\n",
      "Epoch 6/50\n",
      "12/12 [==============================] - 1s 58ms/step - loss: 1.9681 - mse: 1.9681\n",
      "Epoch 7/50\n",
      "12/12 [==============================] - 1s 55ms/step - loss: 1.5159 - mse: 1.5159\n",
      "Epoch 8/50\n",
      "12/12 [==============================] - 1s 61ms/step - loss: 1.0621 - mse: 1.0621\n",
      "Epoch 9/50\n",
      "12/12 [==============================] - 1s 82ms/step - loss: 0.8234 - mse: 0.8234\n",
      "Epoch 10/50\n",
      "12/12 [==============================] - 1s 54ms/step - loss: 0.6703 - mse: 0.6703\n",
      "Epoch 11/50\n",
      "12/12 [==============================] - 1s 65ms/step - loss: 0.6140 - mse: 0.6140\n",
      "Epoch 12/50\n",
      "12/12 [==============================] - 1s 52ms/step - loss: 0.4772 - mse: 0.4772\n",
      "Epoch 13/50\n",
      "12/12 [==============================] - 1s 51ms/step - loss: 0.4386 - mse: 0.4386\n",
      "Epoch 14/50\n",
      "12/12 [==============================] - 1s 50ms/step - loss: 0.4508 - mse: 0.4508\n",
      "Epoch 15/50\n",
      "12/12 [==============================] - 1s 50ms/step - loss: 0.3457 - mse: 0.3457\n",
      "Epoch 16/50\n",
      "12/12 [==============================] - 1s 54ms/step - loss: 0.3493 - mse: 0.3493\n",
      "Epoch 17/50\n",
      "12/12 [==============================] - 1s 51ms/step - loss: 0.3325 - mse: 0.3325\n",
      "Epoch 18/50\n",
      "12/12 [==============================] - 1s 56ms/step - loss: 0.3968 - mse: 0.3968\n",
      "Epoch 19/50\n",
      "12/12 [==============================] - 1s 69ms/step - loss: 0.4228 - mse: 0.4228\n",
      "Epoch 20/50\n",
      "12/12 [==============================] - 1s 82ms/step - loss: 0.3670 - mse: 0.3670\n",
      "Epoch 21/50\n",
      "12/12 [==============================] - 1s 68ms/step - loss: 0.4245 - mse: 0.4245\n",
      "Epoch 22/50\n",
      "12/12 [==============================] - 1s 56ms/step - loss: 0.3704 - mse: 0.3704\n",
      "Epoch 23/50\n",
      "12/12 [==============================] - 1s 56ms/step - loss: 0.3400 - mse: 0.3400\n",
      "Epoch 24/50\n",
      "12/12 [==============================] - 1s 53ms/step - loss: 0.3376 - mse: 0.3376\n",
      "Epoch 25/50\n",
      "12/12 [==============================] - 1s 58ms/step - loss: 0.2781 - mse: 0.2781\n",
      "Epoch 26/50\n",
      "12/12 [==============================] - 1s 55ms/step - loss: 0.2852 - mse: 0.2852\n",
      "Epoch 27/50\n",
      "12/12 [==============================] - 1s 57ms/step - loss: 0.2689 - mse: 0.2689\n",
      "Epoch 28/50\n",
      "12/12 [==============================] - 1s 54ms/step - loss: 0.2761 - mse: 0.2761\n",
      "Epoch 29/50\n",
      "12/12 [==============================] - 1s 58ms/step - loss: 0.2674 - mse: 0.2674\n",
      "Epoch 30/50\n",
      "12/12 [==============================] - 1s 51ms/step - loss: 0.2853 - mse: 0.2853\n",
      "Epoch 31/50\n",
      "12/12 [==============================] - 1s 50ms/step - loss: 0.2667 - mse: 0.2667\n",
      "Epoch 32/50\n",
      "12/12 [==============================] - 1s 59ms/step - loss: 0.3106 - mse: 0.3106\n",
      "Epoch 33/50\n",
      "12/12 [==============================] - 1s 55ms/step - loss: 0.3187 - mse: 0.3187\n",
      "Epoch 34/50\n",
      "12/12 [==============================] - 1s 53ms/step - loss: 0.4110 - mse: 0.4110\n",
      "Epoch 35/50\n",
      "12/12 [==============================] - 1s 57ms/step - loss: 0.3254 - mse: 0.3254\n",
      "Epoch 36/50\n",
      "12/12 [==============================] - 1s 52ms/step - loss: 0.2968 - mse: 0.2968\n",
      "Epoch 37/50\n",
      "12/12 [==============================] - 1s 54ms/step - loss: 0.3370 - mse: 0.3370\n",
      "Epoch 38/50\n",
      "12/12 [==============================] - 1s 55ms/step - loss: 0.3727 - mse: 0.3727\n",
      "Epoch 39/50\n",
      "12/12 [==============================] - 1s 53ms/step - loss: 0.3883 - mse: 0.3883\n",
      "Epoch 40/50\n",
      "12/12 [==============================] - 1s 60ms/step - loss: 0.3203 - mse: 0.3203\n",
      "Epoch 41/50\n",
      "12/12 [==============================] - 1s 58ms/step - loss: 0.2823 - mse: 0.2823\n",
      "Epoch 42/50\n",
      "12/12 [==============================] - 1s 97ms/step - loss: 0.2876 - mse: 0.2876\n",
      "Epoch 43/50\n",
      "12/12 [==============================] - 1s 57ms/step - loss: 0.2510 - mse: 0.2510\n",
      "Epoch 44/50\n",
      "12/12 [==============================] - 1s 73ms/step - loss: 0.2742 - mse: 0.2742\n",
      "Epoch 45/50\n",
      "12/12 [==============================] - 1s 69ms/step - loss: 0.2912 - mse: 0.2912\n",
      "Epoch 46/50\n",
      "12/12 [==============================] - 1s 57ms/step - loss: 0.2774 - mse: 0.2774\n",
      "Epoch 47/50\n",
      "12/12 [==============================] - 1s 82ms/step - loss: 0.3044 - mse: 0.3044\n",
      "Epoch 48/50\n",
      "12/12 [==============================] - 1s 57ms/step - loss: 0.2570 - mse: 0.2570\n",
      "Epoch 49/50\n",
      "12/12 [==============================] - 1s 57ms/step - loss: 0.2585 - mse: 0.2585\n",
      "Epoch 50/50\n",
      "12/12 [==============================] - 1s 59ms/step - loss: 0.3011 - mse: 0.3011\n"
     ]
    }
   ],
   "source": [
    "#cnn-lstm-dnn model training\n",
    "history = model.fit(x_train_cnn,y_train,epochs=50)"
   ]
  },
  {
   "cell_type": "code",
   "execution_count": 99,
   "id": "etI0liwN68he",
   "metadata": {
    "colab": {
     "base_uri": "https://localhost:8080/"
    },
    "id": "etI0liwN68he",
    "outputId": "0ddb56cd-5601-4e78-b718-248f3c55655c"
   },
   "outputs": [
    {
     "name": "stdout",
     "output_type": "stream",
     "text": [
      "3/3 [==============================] - 0s 27ms/step\n"
     ]
    }
   ],
   "source": [
    "y_pred = model.predict(x_test_cnn)"
   ]
  },
  {
   "cell_type": "code",
   "execution_count": 100,
   "id": "brIxuU15_Oxc",
   "metadata": {
    "colab": {
     "base_uri": "https://localhost:8080/",
     "height": 265
    },
    "id": "brIxuU15_Oxc",
    "outputId": "c8020357-373c-458f-b58c-3e6d6da5b0d5"
   },
   "outputs": [
    {
     "data": {
      "image/png": "[encoded data removed]",
      "text/plain": [
       "<Figure size 432x288 with 1 Axes>"
      ]
     },
     "metadata": {
      "needs_background": "light"
     },
     "output_type": "display_data"
    }
   ],
   "source": [
    "# Predicted value charts and actual values chart comparison\n",
    "plt.plot(y_test, label='Actual',color='green')\n",
    "plt.plot(y_pred, label='Predicted',color='red')\n",
    "plt.legend()\n",
    "plt.show()"
   ]
  },
  {
   "cell_type": "code",
   "execution_count": null,
   "id": "y2XMPkaB_kBe",
   "metadata": {
    "id": "y2XMPkaB_kBe"
   },
   "outputs": [],
   "source": []
  },
  {
   "cell_type": "code",
   "execution_count": null,
   "id": "7ab33248",
   "metadata": {},
   "outputs": [],
   "source": []
  },
  {
   "cell_type": "code",
   "execution_count": null,
   "id": "b6c2a4e1",
   "metadata": {},
   "outputs": [],
   "source": []
  }
 ],
 "metadata": {
  "colab": {
   "collapsed_sections": [],
   "name": "time_series.ipynb",
   "provenance": []
  },
  "kernelspec": {
   "display_name": "Python 3 (ipykernel)",
   "language": "python",
   "name": "python3"
  },
  "language_info": {
   "codemirror_mode": {
    "name": "ipython",
    "version": 3
   },
   "file_extension": ".py",
   "mimetype": "text/x-python",
   "name": "python",
   "nbconvert_exporter": "python",
   "pygments_lexer": "ipython3",
   "version": "3.9.7"
  }
 },
 "nbformat": 4,
 "nbformat_minor": 5
}
